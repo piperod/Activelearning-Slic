{
 "cells": [
  {
   "cell_type": "code",
   "execution_count": 3,
   "metadata": {
    "collapsed": false
   },
   "outputs": [],
   "source": [
    "# Importing packages:\n",
    "from skimage.segmentation import slic,mark_boundaries\n",
    "from skimage.util import img_as_float\n",
    "from skimage import io\n",
    "from skimage.measure import regionprops\n",
    "from skimage.color import rgb2hsv\n",
    "from sklearn.model_selection import StratifiedKFold,StratifiedShuffleSplit,KFold,ShuffleSplit\n",
    "from sklearn.model_selection import cross_val_score\n",
    "from sklearn.neighbors import KNeighborsClassifier\n",
    "from sklearn.ensemble import GradientBoostingClassifier\n",
    "from sklearn import svm\n",
    "import cv2 as cv \n",
    "import os,glob, shutil\n",
    "import numpy as np\n",
    "import matplotlib.pyplot as plt\n",
    "import argparse\n",
    "imagename= \"horse/rgb/horse001.jpg\"\n",
    "labeling= \"horse/figure_ground/horse001.jpg\"\n",
    "n_segments =100\n",
    "sigma = 5 \n",
    "def preprocessing(imagename, labeling,n_segments,sigma):\n",
    "    # load the image and convert it to a floating point data type\n",
    "    image= img_as_float(io.imread(imagename))\n",
    "    #load the image with the labeling\n",
    "    imlabels= cv.imread(labeling)\n",
    "    imlabels= cv.resize(imlabels,(image.shape[1],image.shape[0]))\n",
    "    # Perform slic super pixels segmentations\n",
    "    segments = slic(image, n_segments = n_segments, sigma = sigma)\n",
    "    regionpro=regionprops(segments,imlabels[:,:,1])\n",
    "    prob=np.array([p.mean_intensity/255 for p in regionpro])\n",
    "    prob = np.insert(prob, 0, [0])\n",
    "    labels=[0 if i<0.5 else 1 for i in prob]\n",
    "    return image,segments,labels\n",
    "\n",
    "def make3d(descriptor):\n",
    "    if (descriptor.ndim==2):\n",
    "        dim=1\n",
    "    else:\n",
    "        dim=descriptor.shape[2]\n",
    "    return np.reshape(descriptor, (descriptor.shape[0],descriptor.shape[1],dim))\n",
    "\n",
    "\n",
    "def compute_polling(plane, segments):\n",
    "    numsegments = int(np.max(segments)+1)\n",
    "    fv = np.zeros((5,numsegments))\n",
    "    fv[3,:] = np.max(plane)\n",
    "    fv[4,:] = np.min(plane)\n",
    "    for y in range(plane.shape[0]):\n",
    "        for x in range(plane.shape[1]):\n",
    "            L = int(segments[y,x])\n",
    "            V = plane[y,x]\n",
    "            fv[0,L] = fv[0,L]+1\n",
    "            fv[1,L] = fv[1,L]+V\n",
    "            fv[2,L] = fv[2,L]+V**2\n",
    "            fv[3,L] = min(fv[3,L],V)\n",
    "            fv[4,L] = max(fv[4,L],V)\n",
    "    #for L in range(numsegments):\n",
    "    fv[1,:] = fv[1,:]/fv[0,:]\n",
    "    fv[2,:] = fv[2,:]-fv[1,:]**2\n",
    "    fv[np.isnan(fv)] = 0\n",
    "    return fv\n",
    "\n",
    "\n",
    "def build_features(image, segments):\n",
    "    hsv = rgb2hsv(image)\n",
    "    h=hsv[:,:,0]/180\n",
    "    s=hsv[:,:,1]/255\n",
    "    v=hsv[:,:,2]/255\n",
    "    ga=cv.GaussianBlur(image,(61,61),8.0)\n",
    "    laga=cv.Laplacian(ga,cv.CV_64F)\n",
    "    sobel= cv.Sobel(image,cv.CV_64F,1,0,ksize=3)\n",
    "    descriptors=[image,h,s,v,ga,laga,sobel]  \n",
    "    dataset=np.zeros((5,segments.max()+1))\n",
    "    count=0\n",
    "    for descriptor in descriptors:\n",
    "        descriptor = make3d(descriptor)\n",
    "        for channel in range(0,descriptor.shape[2]):\n",
    "            plane = descriptor[:,:,channel]\n",
    "            fv=compute_polling(plane,segments)\n",
    "            dataset=np.r_[dataset,fv]\n",
    "    return dataset\n",
    "\n",
    "def build_dataset(imagespath,labelingpath):\n",
    "    imlist = glob.glob(os.path.join(imagespath,'*.jpg'))\n",
    "    data  = np.ndarray((0,80))\n",
    "    labeling = []\n",
    "    for im in imlist[0:20]:\n",
    "        image,segments,labels = preprocessing(im,labelingpath+im[10:],n_segments,sigma)\n",
    "        dataset = np.transpose(build_features(image,segments))\n",
    "        data = np.r_[data,dataset]\n",
    "        labeling += labels\n",
    "    return data,labeling\n",
    "\n",
    "def classify(dataset,labels):\n",
    "    k = 5\n",
    "    n_splits=5\n",
    "    skf = StratifiedKFold(n_splits=n_splits)\n",
    "    skf_ss = StratifiedShuffleSplit(n_splits=n_splits)\n",
    "    C=1\n",
    "    classifiers={\"knn\":KNeighborsClassifier(n_neighbors=k),\"svml\":svm.SVC(kernel='linear', C=C)\n",
    "                 ,\"svmr\":svm.SVC(kernel='rbf', C=C),\n",
    "                   \"boost\":GradientBoostingClassifier(n_estimators=100, learning_rate=1.0,\n",
    "                                                             max_depth=2, random_state=0)}\n",
    "    scores={}\n",
    "    for k in classifiers.keys():\n",
    "        sc= cross_val_score(classifiers[k],dataset,labels,cv=skf)\n",
    "        sc2= cross_val_score(classifiers[k],dataset,labels,cv=skf_ss)\n",
    "        scores[k]=[sc.mean(),sc.std()]\n",
    "        scores[\"shuffling \"+ k]=[sc2.mean(),sc2.std()]\n",
    "    return scores\n",
    "        "
   ]
  },
  {
   "cell_type": "markdown",
   "metadata": {},
   "source": [
    "# Single Image Example: "
   ]
  },
  {
   "cell_type": "code",
   "execution_count": null,
   "metadata": {
    "collapsed": false
   },
   "outputs": [],
   "source": [
    "imagename= \"horse/rgb/horse001.jpg\"\n",
    "labeling= \"horse/figure_ground/horse001.jpg\"\n",
    "n_segments =100\n",
    "sigma = 5 \n",
    "image,segments,labels=preprocessing(imagename,labeling,n_segments,sigma)\n",
    "dataset=build_features(image,segments)\n",
    "data=np.transpose(dataset)\n",
    "classify(data,labels)"
   ]
  },
  {
   "cell_type": "markdown",
   "metadata": {},
   "source": [
    "# 21 Images Example :"
   ]
  },
  {
   "cell_type": "code",
   "execution_count": null,
   "metadata": {
    "collapsed": false
   },
   "outputs": [],
   "source": [
    "imagespath = \"horse/rgb/\"\n",
    "labelingpath = \"horse/figure_ground/\"\n",
    "data,labels = build_dataset(imagespath,labelingpath)"
   ]
  },
  {
   "cell_type": "code",
   "execution_count": null,
   "metadata": {
    "collapsed": false
   },
   "outputs": [],
   "source": [
    "classify(data,labels)"
   ]
  },
  {
   "cell_type": "markdown",
   "metadata": {},
   "source": [
    "# Profiler : Timer. "
   ]
  },
  {
   "cell_type": "code",
   "execution_count": null,
   "metadata": {
    "collapsed": true
   },
   "outputs": [],
   "source": [
    "from functools import wraps\n",
    "from time import time\n",
    "def timing(f):\n",
    "    @wraps(f)\n",
    "    def wrap(*args, **kw):\n",
    "        ts = time()\n",
    "        result = f(*args, **kw)\n",
    "        te = time()\n",
    "        print ('func:%r args:[%r, %r] took: %2.4f sec' % \\\n",
    "          (f.__name__, args, kw, te-ts))\n",
    "        return result\n",
    "    return wrap\n"
   ]
  },
  {
   "cell_type": "markdown",
   "metadata": {},
   "source": [
    "# Active Learning"
   ]
  },
  {
   "cell_type": "code",
   "execution_count": 3,
   "metadata": {
    "collapsed": false
   },
   "outputs": [],
   "source": [
    "import copy\n",
    "import os\n",
    "\n",
    "import numpy as np\n",
    "import matplotlib.pyplot as plt\n",
    "try:\n",
    "    from sklearn.model_selection import train_test_split\n",
    "except ImportError:\n",
    "    from sklearn.cross_validation import train_test_split\n",
    "\n",
    "# libact classes\n",
    "from libact.base.dataset import Dataset, import_libsvm_sparse\n",
    "from libact.models import *\n",
    "from libact.query_strategies import *\n",
    "from libact.labelers import IdealLabeler\n",
    "\n",
    "def run(trn_ds, tst_ds, lbr, model, qs, quota):\n",
    "    E_in, E_out = [], []\n",
    "\n",
    "    for i in range(0,quota,1):\n",
    "        \n",
    "        # Standard usage of libact objects\n",
    "        ask_id = qs.make_query()\n",
    "        X, _ = zip(*trn_ds.data)\n",
    "        lb = lbr.label(X[ask_id])\n",
    "        trn_ds.update(ask_id, lb)\n",
    "        \n",
    "        #print(\"Step {}: Picked {}\".format(i,ask_id))\n",
    "\n",
    "        model.train(trn_ds)\n",
    "        \n",
    "        e_in = 1 - model.score(trn_ds)\n",
    "        e_out = 1 - model.score(tst_ds)\n",
    "        \n",
    "        E_in = np.append(E_in, e_in)\n",
    "        E_out = np.append(E_out, e_out)\n",
    "        \n",
    "        print(\"Pick {}, error = {:4d} train, {:4d} test\".format(i,e_in,e_out))\n",
    "\n",
    "    return E_in, E_out\n",
    "\n",
    "\n",
    "def split_train_test(X,y, test_size, n_labeled):\n",
    "    X_train, X_test, y_train, y_test = train_test_split(X, y, test_size=test_size, stratify=y)\n",
    "    trn_ds = Dataset(X_train, np.concatenate([y_train[:n_labeled], [None] * (len(y_train) - n_labeled)]))\n",
    "    tst_ds = Dataset(X_test, y_test)\n",
    "    fully_labeled_trn_ds = Dataset(X_train, y_train)\n",
    "\n",
    "    return trn_ds, tst_ds, y_train, fully_labeled_trn_ds\n",
    "def active_learning(data,labels,test_size,n_labeled):\n",
    "    # Load dataset\n",
    "    trn_ds, tst_ds, y_train, fully_labeled_trn_ds = split_train_test(data,labels, test_size, n_labeled)\n",
    "    trn_ds2 = copy.deepcopy(trn_ds)\n",
    "    lbr = IdealLabeler(fully_labeled_trn_ds)\n",
    "\n",
    "    quota = len(y_train) - n_labeled    # number of samples to query\n",
    "\n",
    "    # Comparing UncertaintySampling strategy with RandomSampling.\n",
    "    # model is the base learner, e.g. LogisticRegression, SVM ... etc.\n",
    "    print(\"Running UncertaintySampling...\")\n",
    "    qs = UncertaintySampling(trn_ds, method='lc', model=LogisticRegression())\n",
    "    model = LogisticRegression()\n",
    "    E_in_1, E_out_1 = run(trn_ds, tst_ds, lbr, model, qs, quota)\n",
    "\n",
    "    print(\"Running RandomSampling...\")\n",
    "    qs2 = RandomSampling(trn_ds2)\n",
    "    model = LogisticRegression()\n",
    "    E_in_2, E_out_2 = run(trn_ds2, tst_ds, lbr, model, qs2, quota)\n",
    "    \n",
    "    print(\"Plotting...\")\n",
    "    \n",
    "    # Plot the learning curve of UncertaintySampling to RandomSampling\n",
    "    # The x-axis is the number of queries, and the y-axis is the corresponding\n",
    "    # error rate.\n",
    "    query_num = np.arange(1, quota + 1)\n",
    "    plt.plot(query_num, E_in_1, 'b', label='qs Ein')\n",
    "    plt.plot(query_num, E_in_2, 'r', label='random Ein')\n",
    "    plt.plot(query_num, E_out_1, 'g', label='qs Eout')\n",
    "    plt.plot(query_num, E_out_2, 'k', label='random Eout')\n",
    "    plt.xlabel('Number of Queries')\n",
    "    plt.ylabel('Error')\n",
    "    plt.title('Experiment Result')\n",
    "    plt.legend(loc='upper center', bbox_to_anchor=(0.5, -0.05),\n",
    "           fancybox=True, shadow=True, ncol=5)\n",
    "    plt.show()\n",
    "    \n",
    "    print(\"Done\")\n",
    "    \n",
    "    return (E_in_1,E_in_2,E_out_1,E_out_2)"
   ]
  },
  {
   "cell_type": "code",
   "execution_count": null,
   "metadata": {
    "collapsed": false
   },
   "outputs": [],
   "source": [
    "def active_learning(data,labels,test_size,n_labeled)\n",
    "\n",
    "    "
   ]
  },
  {
   "cell_type": "markdown",
   "metadata": {},
   "source": [
    "# Whole Dataset -"
   ]
  },
  {
   "cell_type": "code",
   "execution_count": 4,
   "metadata": {
    "collapsed": false
   },
   "outputs": [],
   "source": [
    "data=np.loadtxt(\"data.txt\")\n",
    "labels=np.loadtxt(\"labels.txt\")"
   ]
  },
  {
   "cell_type": "code",
   "execution_count": 5,
   "metadata": {
    "collapsed": true
   },
   "outputs": [],
   "source": [
    "test_size = 0.25    # the percentage of samples in the dataset that will be\n",
    "                    # randomly selected and assigned to the test set\n",
    "n_labeled = 2      # number of samples that are initially labeled"
   ]
  },
  {
   "cell_type": "code",
   "execution_count": 24,
   "metadata": {
    "collapsed": false,
    "scrolled": true
   },
   "outputs": [
    {
     "name": "stdout",
     "output_type": "stream",
     "text": [
      "Running UncertaintySampling...\n",
      "Pick 0, error = 0.0 train, 0.22479135312628262 test\n"
     ]
    },
    {
     "name": "stderr",
     "output_type": "stream",
     "text": [
      "/Users/megret/anaconda/envs/bnl/lib/python3.5/site-packages/sklearn/linear_model/base.py:352: RuntimeWarning: overflow encountered in exp\n",
      "  np.exp(prob, prob)\n"
     ]
    },
    {
     "name": "stdout",
     "output_type": "stream",
     "text": [
      "Pick 1, error = 0.0 train, 0.22383362977151455 test\n",
      "Pick 2, error = 0.0 train, 0.2283486113011356 test\n",
      "Pick 3, error = 0.0 train, 0.228622246545355 test\n",
      "Pick 4, error = 0.0 train, 0.22643316459159935 test\n",
      "Pick 5, error = 0.0 train, 0.21740320153235737 test\n",
      "Pick 6, error = 0.0 train, 0.21863456013134497 test\n",
      "Pick 7, error = 0.0 train, 0.21603502531126006 test\n",
      "Pick 8, error = 0.0 train, 0.2217813654398687 test\n",
      "Pick 9, error = 0.0 train, 0.21890819537556439 test\n",
      "Pick 10, error = 0.0 train, 0.21972910110822275 test\n",
      "Pick 11, error = 0.0 train, 0.2205500068408811 test\n",
      "Pick 12, error = 0.0 train, 0.21562457244493094 test\n",
      "Pick 13, error = 0.0 train, 0.21316185524695586 test\n",
      "Pick 14, error = 0.0 train, 0.215077301956492 test\n",
      "Pick 15, error = 0.0 train, 0.21425639622383363 test\n",
      "Pick 16, error = 0.0 train, 0.21617184293336977 test\n",
      "Pick 17, error = 0.0 train, 0.21576139006704065 test\n",
      "Pick 18, error = 0.0 train, 0.21617184293336977 test\n",
      "Pick 19, error = 0.0 train, 0.21316185524695586 test\n",
      "Pick 20, error = 0.0 train, 0.2112464085374196 test\n",
      "Pick 21, error = 0.0 train, 0.2098782323163223 test\n",
      "Pick 22, error = 0.0 train, 0.2109727732932002 test\n",
      "Pick 23, error = 0.0 train, 0.2111095909153099 test\n",
      "Pick 24, error = 0.0 train, 0.21343549049117527 test\n",
      "Pick 25, error = 0.02777777777777779 train, 0.215077301956492 test\n",
      "Pick 26, error = 0.027027027027026973 train, 0.21562457244493094 test\n",
      "Pick 27, error = 0.02631578947368418 train, 0.21302503762484604 test\n",
      "Pick 28, error = 0.02564102564102566 train, 0.2126145847585169 test\n",
      "Pick 29, error = 0.025000000000000022 train, 0.2112464085374196 test\n",
      "Pick 30, error = 0.024390243902439046 train, 0.20960459707210288 test\n",
      "Pick 31, error = 0.023809523809523836 train, 0.20946777944999317 test\n",
      "Pick 32, error = 0.023255813953488413 train, 0.20892050896155423 test\n",
      "Pick 33, error = 0.022727272727272707 train, 0.20823642085100558 test\n",
      "Pick 34, error = 0.022222222222222254 train, 0.20782596798467645 test\n",
      "Pick 35, error = 0.04347826086956519 train, 0.2071418798741278 test\n",
      "Pick 36, error = 0.021276595744680882 train, 0.20645779176357915 test\n",
      "Pick 37, error = 0.0625 train, 0.20673142700779856 test\n",
      "Pick 38, error = 0.020408163265306145 train, 0.20796278560678616 test\n",
      "Pick 39, error = 0.020000000000000018 train, 0.20741551511834722 test\n",
      "Pick 40, error = 0.039215686274509776 train, 0.2071418798741278 test\n",
      "Pick 41, error = 0.038461538461538436 train, 0.20741551511834722 test\n",
      "Pick 42, error = 0.037735849056603765 train, 0.20741551511834722 test\n",
      "Pick 43, error = 0.03703703703703709 train, 0.20686824462990838 test\n",
      "Pick 44, error = 0.036363636363636376 train, 0.2086468737173348 test\n",
      "Pick 45, error = 0.0357142857142857 train, 0.20823642085100558 test\n",
      "Pick 46, error = 0.03508771929824561 train, 0.2086468737173348 test\n",
      "Pick 47, error = 0.03448275862068961 train, 0.20768915036256674 test\n",
      "Pick 48, error = 0.03389830508474578 train, 0.20782596798467645 test\n",
      "Pick 49, error = 0.033333333333333326 train, 0.20837323847311529 test\n",
      "Pick 50, error = 0.032786885245901676 train, 0.20768915036256674 test\n",
      "Pick 51, error = 0.048387096774193505 train, 0.2070050622520181 test\n",
      "Pick 52, error = 0.04761904761904767 train, 0.20550006840881108 test\n",
      "Pick 53, error = 0.046875 train, 0.20522643316459155 test\n",
      "Pick 54, error = 0.03076923076923077 train, 0.20604733889725002 test\n",
      "Pick 55, error = 0.045454545454545414 train, 0.20522643316459155 test\n",
      "Pick 56, error = 0.04477611940298509 train, 0.2059105212751402 test\n",
      "Pick 57, error = 0.02941176470588236 train, 0.2057737036530305 test\n",
      "Pick 58, error = 0.02898550724637683 train, 0.20645779176357915 test\n",
      "Pick 59, error = 0.02857142857142858 train, 0.20522643316459155 test\n",
      "Pick 60, error = 0.05633802816901412 train, 0.20358462169927483 test\n",
      "Pick 61, error = 0.08333333333333337 train, 0.2033109864550554 test\n",
      "Pick 62, error = 0.06849315068493156 train, 0.20358462169927483 test\n",
      "Pick 63, error = 0.05405405405405406 train, 0.20385825694349435 test\n",
      "Pick 64, error = 0.06666666666666665 train, 0.20385825694349435 test\n",
      "Pick 65, error = 0.06578947368421051 train, 0.20399507456560406 test\n",
      "Pick 66, error = 0.06493506493506496 train, 0.2031741688329457 test\n",
      "Pick 67, error = 0.07692307692307687 train, 0.2033109864550554 test\n",
      "Pick 68, error = 0.07594936708860756 train, 0.2031741688329457 test\n",
      "Pick 69, error = 0.0625 train, 0.2033109864550554 test\n",
      "Pick 70, error = 0.09876543209876543 train, 0.20344780407716512 test\n",
      "Pick 71, error = 0.060975609756097615 train, 0.20372143932138465 test\n",
      "Pick 72, error = 0.07228915662650603 train, 0.203037351210836 test\n",
      "Pick 73, error = 0.1071428571428571 train, 0.20344780407716512 test\n",
      "Pick 74, error = 0.08235294117647063 train, 0.203037351210836 test\n",
      "Pick 75, error = 0.08139534883720934 train, 0.20290053358872617 test\n",
      "Pick 76, error = 0.09195402298850575 train, 0.203037351210836 test\n",
      "Pick 77, error = 0.09090909090909094 train, 0.20290053358872617 test\n",
      "Pick 78, error = 0.0898876404494382 train, 0.203037351210836 test\n",
      "Pick 79, error = 0.0888888888888889 train, 0.20276371596661646 test\n",
      "Pick 80, error = 0.08791208791208793 train, 0.20249008072239705 test\n",
      "Pick 81, error = 0.08695652173913049 train, 0.20235326310028734 test\n",
      "Pick 82, error = 0.08602150537634412 train, 0.20235326310028734 test\n",
      "Pick 83, error = 0.0957446808510638 train, 0.20290053358872617 test\n",
      "Pick 84, error = 0.08421052631578951 train, 0.20235326310028734 test\n",
      "Pick 85, error = 0.08333333333333337 train, 0.203037351210836 test\n",
      "Pick 86, error = 0.07216494845360821 train, 0.2031741688329457 test\n",
      "Pick 87, error = 0.08163265306122447 train, 0.20358462169927483 test\n",
      "Pick 88, error = 0.06060606060606055 train, 0.20290053358872617 test\n",
      "Pick 89, error = 0.06000000000000005 train, 0.203037351210836 test\n",
      "Pick 90, error = 0.06930693069306926 train, 0.20290053358872617 test\n",
      "Pick 91, error = 0.06862745098039214 train, 0.2033109864550554 test\n",
      "Pick 92, error = 0.058252427184465994 train, 0.20344780407716512 test\n",
      "Pick 93, error = 0.07692307692307687 train, 0.203037351210836 test\n",
      "Pick 94, error = 0.07619047619047614 train, 0.20358462169927483 test\n",
      "Pick 95, error = 0.07547169811320753 train, 0.2033109864550554 test\n",
      "Pick 96, error = 0.08411214953271029 train, 0.20372143932138465 test\n",
      "Pick 97, error = 0.09259259259259256 train, 0.20399507456560406 test\n",
      "Pick 98, error = 0.1009174311926605 train, 0.20372143932138465 test\n",
      "Pick 99, error = 0.09090909090909094 train, 0.20358462169927483 test\n",
      "Pick 100, error = 0.08108108108108103 train, 0.2033109864550554 test\n",
      "Pick 101, error = 0.0803571428571429 train, 0.20344780407716512 test\n",
      "Pick 102, error = 0.07964601769911506 train, 0.203037351210836 test\n",
      "Pick 103, error = 0.07894736842105265 train, 0.2031741688329457 test\n",
      "Pick 104, error = 0.06956521739130439 train, 0.20385825694349435 test\n",
      "Pick 105, error = 0.10344827586206895 train, 0.20372143932138465 test\n",
      "Pick 106, error = 0.10256410256410253 train, 0.20413189218771377 test\n",
      "Pick 107, error = 0.07627118644067798 train, 0.20413189218771377 test\n",
      "Pick 108, error = 0.08403361344537819 train, 0.20399507456560406 test\n",
      "Pick 109, error = 0.08333333333333337 train, 0.20385825694349435 test\n",
      "Pick 110, error = 0.0826446280991735 train, 0.20413189218771377 test\n",
      "Pick 111, error = 0.0901639344262295 train, 0.20426870980982348 test\n",
      "Pick 112, error = 0.09756097560975607 train, 0.20399507456560406 test\n",
      "Pick 113, error = 0.09677419354838712 train, 0.20399507456560406 test\n",
      "Pick 114, error = 0.12 train, 0.20358462169927483 test\n",
      "Pick 115, error = 0.11111111111111116 train, 0.2033109864550554 test\n",
      "Pick 116, error = 0.10236220472440949 train, 0.20344780407716512 test\n",
      "Pick 117, error = 0.1015625 train, 0.20372143932138465 test\n",
      "Pick 118, error = 0.0852713178294574 train, 0.20372143932138465 test\n",
      "Pick 119, error = 0.11538461538461542 train, 0.2033109864550554 test\n",
      "Pick 120, error = 0.10687022900763354 train, 0.2033109864550554 test\n",
      "Pick 121, error = 0.12121212121212122 train, 0.20344780407716512 test\n",
      "Pick 122, error = 0.1127819548872181 train, 0.20344780407716512 test\n",
      "Pick 123, error = 0.12686567164179108 train, 0.20344780407716512 test\n",
      "Pick 124, error = 0.11851851851851847 train, 0.2033109864550554 test\n",
      "Pick 125, error = 0.11029411764705888 train, 0.2033109864550554 test\n",
      "Pick 126, error = 0.11678832116788318 train, 0.2031741688329457 test\n",
      "Pick 127, error = 0.13043478260869568 train, 0.2033109864550554 test\n",
      "Pick 128, error = 0.1079136690647482 train, 0.2031741688329457 test\n",
      "Pick 129, error = 0.11428571428571432 train, 0.203037351210836 test\n",
      "Pick 130, error = 0.12056737588652477 train, 0.2033109864550554 test\n",
      "Pick 131, error = 0.12676056338028174 train, 0.20344780407716512 test\n",
      "Pick 132, error = 0.11888111888111885 train, 0.2031741688329457 test\n",
      "Pick 133, error = 0.14583333333333337 train, 0.2033109864550554 test\n",
      "Pick 134, error = 0.13793103448275867 train, 0.2031741688329457 test\n",
      "Pick 135, error = 0.15068493150684936 train, 0.2033109864550554 test\n",
      "Pick 136, error = 0.15646258503401356 train, 0.203037351210836 test\n",
      "Pick 137, error = 0.15540540540540537 train, 0.2033109864550554 test\n",
      "Pick 138, error = 0.1476510067114094 train, 0.2031741688329457 test\n",
      "Pick 139, error = 0.1466666666666666 train, 0.2033109864550554 test\n",
      "Pick 140, error = 0.14569536423841056 train, 0.2031741688329457 test\n",
      "Pick 141, error = 0.13815789473684215 train, 0.2031741688329457 test\n",
      "Pick 142, error = 0.130718954248366 train, 0.20290053358872617 test\n",
      "Pick 143, error = 0.1428571428571429 train, 0.20262689834450676 test\n",
      "Pick 144, error = 0.1483870967741936 train, 0.20221644547817763 test\n",
      "Pick 145, error = 0.14102564102564108 train, 0.20249008072239705 test\n",
      "Pick 146, error = 0.15286624203821653 train, 0.20235326310028734 test\n",
      "Pick 147, error = 0.14556962025316456 train, 0.20249008072239705 test\n",
      "Pick 148, error = 0.1572327044025157 train, 0.20221644547817763 test\n",
      "Pick 149, error = 0.14375000000000004 train, 0.20221644547817763 test\n",
      "Pick 150, error = 0.16149068322981364 train, 0.20276371596661646 test\n",
      "Pick 151, error = 0.154320987654321 train, 0.20290053358872617 test\n",
      "Pick 152, error = 0.1595092024539877 train, 0.20276371596661646 test\n",
      "Pick 153, error = 0.1585365853658537 train, 0.20262689834450676 test\n",
      "Pick 154, error = 0.1575757575757576 train, 0.20262689834450676 test\n",
      "Pick 155, error = 0.1506024096385542 train, 0.20276371596661646 test\n",
      "Pick 156, error = 0.15568862275449102 train, 0.20276371596661646 test\n",
      "Pick 157, error = 0.15476190476190477 train, 0.20276371596661646 test\n",
      "Pick 158, error = 0.14792899408284022 train, 0.20290053358872617 test\n",
      "Pick 159, error = 0.1588235294117647 train, 0.20276371596661646 test\n",
      "Pick 160, error = 0.15204678362573099 train, 0.20249008072239705 test\n",
      "Pick 161, error = 0.19186046511627908 train, 0.20262689834450676 test\n",
      "Pick 162, error = 0.161849710982659 train, 0.20276371596661646 test\n",
      "Pick 163, error = 0.16091954022988508 train, 0.20249008072239705 test\n",
      "Pick 164, error = 0.16000000000000003 train, 0.20262689834450676 test\n",
      "Pick 165, error = 0.15909090909090906 train, 0.20221644547817763 test\n",
      "Pick 166, error = 0.16384180790960456 train, 0.20249008072239705 test\n",
      "Pick 167, error = 0.1629213483146067 train, 0.20262689834450676 test\n",
      "Pick 168, error = 0.17318435754189943 train, 0.20262689834450676 test\n",
      "Pick 169, error = 0.15555555555555556 train, 0.20235326310028734 test\n",
      "Pick 170, error = 0.16022099447513816 train, 0.20235326310028734 test\n",
      "Pick 171, error = 0.15934065934065933 train, 0.20235326310028734 test\n",
      "Pick 172, error = 0.17486338797814205 train, 0.20235326310028734 test\n",
      "Pick 173, error = 0.17934782608695654 train, 0.20235326310028734 test\n",
      "Pick 174, error = 0.17297297297297298 train, 0.20235326310028734 test\n",
      "Pick 175, error = 0.17741935483870963 train, 0.2020796278560678 test\n",
      "Pick 176, error = 0.19786096256684493 train, 0.20221644547817763 test\n",
      "Pick 177, error = 0.19148936170212771 train, 0.2020796278560678 test\n",
      "Pick 178, error = 0.17460317460317465 train, 0.2020796278560678 test\n",
      "Pick 179, error = 0.17368421052631577 train, 0.2016691749897387 test\n",
      "Pick 180, error = 0.22513089005235598 train, 0.20153235736762898 test\n",
      "Pick 181, error = 0.203125 train, 0.2018059926118484 test\n",
      "Pick 182, error = 0.1658031088082902 train, 0.2016691749897387 test\n",
      "Pick 183, error = 0.1649484536082474 train, 0.20153235736762898 test\n",
      "Pick 184, error = 0.16410256410256407 train, 0.2016691749897387 test\n",
      "Pick 185, error = 0.21938775510204078 train, 0.20153235736762898 test\n",
      "Pick 186, error = 0.1725888324873096 train, 0.20153235736762898 test\n",
      "Pick 187, error = 0.16666666666666663 train, 0.2019428102339581 test\n",
      "Pick 188, error = 0.17085427135678388 train, 0.2018059926118484 test\n",
      "Pick 189, error = 0.18500000000000005 train, 0.2016691749897387 test\n",
      "Pick 190, error = 0.17412935323383083 train, 0.2018059926118484 test\n",
      "Pick 191, error = 0.24257425742574257 train, 0.2018059926118484 test\n",
      "Pick 192, error = 0.18719211822660098 train, 0.2016691749897387 test\n",
      "Pick 193, error = 0.22058823529411764 train, 0.2018059926118484 test\n",
      "Pick 194, error = 0.2682926829268293 train, 0.20125872212340945 test\n",
      "Pick 195, error = 0.21359223300970875 train, 0.20153235736762898 test\n",
      "Pick 196, error = 0.2028985507246377 train, 0.20139553974551927 test\n",
      "Pick 197, error = 0.22596153846153844 train, 0.20112190450129974 test\n",
      "Pick 198, error = 0.20574162679425834 train, 0.20153235736762898 test\n",
      "Pick 199, error = 0.2571428571428571 train, 0.20112190450129974 test\n",
      "Pick 200, error = 0.22274881516587675 train, 0.20139553974551927 test\n",
      "Pick 201, error = 0.2264150943396226 train, 0.20112190450129974 test\n",
      "Pick 202, error = 0.19718309859154926 train, 0.20125872212340945 test\n",
      "Pick 203, error = 0.21962616822429903 train, 0.20125872212340945 test\n",
      "Pick 204, error = 0.26046511627906976 train, 0.20071145163497062 test\n",
      "Pick 205, error = 0.20833333333333337 train, 0.20125872212340945 test\n",
      "Pick 206, error = 0.1981566820276498 train, 0.20098508687919003 test\n",
      "Pick 207, error = 0.18807339449541283 train, 0.20112190450129974 test\n",
      "Pick 208, error = 0.228310502283105 train, 0.2005746340128609 test\n",
      "Pick 209, error = 0.19545454545454544 train, 0.20084826925708033 test\n",
      "Pick 210, error = 0.1945701357466063 train, 0.20084826925708033 test\n",
      "Pick 211, error = 0.22522522522522526 train, 0.20112190450129974 test\n",
      "Pick 212, error = 0.2376681614349776 train, 0.20098508687919003 test\n",
      "Pick 213, error = 0.2142857142857143 train, 0.20125872212340945 test\n",
      "Pick 214, error = 0.19111111111111112 train, 0.2004378163907511 test\n",
      "Pick 215, error = 0.18584070796460173 train, 0.2005746340128609 test\n",
      "Pick 216, error = 0.19823788546255505 train, 0.20071145163497062 test\n",
      "Pick 217, error = 0.20175438596491224 train, 0.20071145163497062 test\n",
      "Pick 218, error = 0.2139737991266376 train, 0.2004378163907511 test\n",
      "Pick 219, error = 0.23043478260869565 train, 0.2004378163907511 test\n",
      "Pick 220, error = 0.22077922077922074 train, 0.2004378163907511 test\n",
      "Pick 221, error = 0.2155172413793104 train, 0.20071145163497062 test\n",
      "Pick 222, error = 0.2103004291845494 train, 0.2004378163907511 test\n",
      "Pick 223, error = 0.20940170940170943 train, 0.2004378163907511 test\n",
      "Pick 224, error = 0.2085106382978723 train, 0.20071145163497062 test\n",
      "Pick 225, error = 0.2076271186440678 train, 0.2004378163907511 test\n",
      "Pick 226, error = 0.19409282700421937 train, 0.20071145163497062 test\n",
      "Pick 227, error = 0.19327731092436973 train, 0.20030099876864138 test\n",
      "Pick 228, error = 0.2175732217573222 train, 0.20084826925708033 test\n",
      "Pick 229, error = 0.21250000000000002 train, 0.2005746340128609 test\n",
      "Pick 230, error = 0.22821576763485474 train, 0.2004378163907511 test\n",
      "Pick 231, error = 0.2603305785123967 train, 0.20016418114653167 test\n",
      "Pick 232, error = 0.2098765432098766 train, 0.20002736352442196 test\n",
      "Pick 233, error = 0.25409836065573765 train, 0.20016418114653167 test\n",
      "Pick 234, error = 0.19999999999999996 train, 0.20030099876864138 test\n",
      "Pick 235, error = 0.22357723577235777 train, 0.19989054590231226 test\n",
      "Pick 236, error = 0.22672064777327938 train, 0.20002736352442196 test\n",
      "Pick 237, error = 0.19758064516129037 train, 0.19975372828020244 test\n",
      "Pick 238, error = 0.19678714859437751 train, 0.19975372828020244 test\n",
      "Pick 239, error = 0.19199999999999995 train, 0.19975372828020244 test\n",
      "Pick 240, error = 0.26693227091633465 train, 0.19989054590231226 test\n",
      "Pick 241, error = 0.22619047619047616 train, 0.19975372828020244 test\n",
      "Pick 242, error = 0.26086956521739135 train, 0.19975372828020244 test\n",
      "Pick 243, error = 0.24015748031496065 train, 0.19975372828020244 test\n",
      "Pick 244, error = 0.2313725490196078 train, 0.19975372828020244 test\n",
      "Pick 245, error = 0.25390625 train, 0.19989054590231226 test\n",
      "Pick 246, error = 0.27237354085603116 train, 0.19975372828020244 test\n",
      "Pick 247, error = 0.22480620155038755 train, 0.19975372828020244 test\n",
      "Pick 248, error = 0.250965250965251 train, 0.19961691065809273 test\n",
      "Pick 249, error = 0.25 train, 0.1993432754138733 test\n",
      "Pick 250, error = 0.24904214559386972 train, 0.19948009303598302 test\n",
      "Pick 251, error = 0.30534351145038163 train, 0.19948009303598302 test\n",
      "Pick 252, error = 0.2547528517110266 train, 0.19948009303598302 test\n",
      "Pick 253, error = 0.2803030303030303 train, 0.20002736352442196 test\n",
      "Pick 254, error = 0.2603773584905661 train, 0.19879600492543437 test\n",
      "Pick 255, error = 0.25187969924812026 train, 0.1990696401696539 test\n",
      "Pick 256, error = 0.23970037453183524 train, 0.19879600492543437 test\n",
      "Pick 257, error = 0.2574626865671642 train, 0.1992064577917636 test\n",
      "Pick 258, error = 0.241635687732342 train, 0.1990696401696539 test\n",
      "Pick 259, error = 0.2407407407407407 train, 0.1990696401696539 test\n",
      "Pick 260, error = 0.2952029520295203 train, 0.19948009303598302 test\n",
      "Pick 261, error = 0.23161764705882348 train, 0.19865918730332466 test\n",
      "Pick 262, error = 0.3076923076923077 train, 0.19879600492543437 test\n",
      "Pick 263, error = 0.22627737226277367 train, 0.19893282254754407 test\n",
      "Pick 264, error = 0.25090909090909086 train, 0.19879600492543437 test\n",
      "Pick 265, error = 0.24275362318840576 train, 0.197975099192776 test\n",
      "Pick 266, error = 0.2490974729241877 train, 0.19824873443699553 test\n",
      "Pick 267, error = 0.23381294964028776 train, 0.197975099192776 test\n",
      "Pick 268, error = 0.3046594982078853 train, 0.19893282254754407 test\n",
      "Pick 269, error = 0.3107142857142857 train, 0.1990696401696539 test\n",
      "Pick 270, error = 0.2562277580071174 train, 0.1981119168148857 test\n",
      "Pick 271, error = 0.2978723404255319 train, 0.19879600492543437 test\n",
      "Pick 272, error = 0.26501766784452296 train, 0.19838555205910524 test\n",
      "Pick 273, error = 0.25704225352112675 train, 0.1981119168148857 test\n",
      "Pick 274, error = 0.2666666666666667 train, 0.19852236968121495 test\n",
      "Pick 275, error = 0.25874125874125875 train, 0.19838555205910524 test\n",
      "Pick 276, error = 0.25435540069686413 train, 0.19852236968121495 test\n",
      "Pick 277, error = 0.2569444444444444 train, 0.1990696401696539 test\n",
      "Pick 278, error = 0.25259515570934254 train, 0.19865918730332466 test\n",
      "Pick 279, error = 0.2931034482758621 train, 0.19961691065809273 test\n",
      "Pick 280, error = 0.24742268041237114 train, 0.19852236968121495 test\n",
      "Pick 281, error = 0.26369863013698636 train, 0.19852236968121495 test\n",
      "Pick 282, error = 0.2525597269624573 train, 0.19865918730332466 test\n",
      "Pick 283, error = 0.2755102040816326 train, 0.1992064577917636 test\n",
      "Pick 284, error = 0.29491525423728815 train, 0.19948009303598302 test\n",
      "Pick 285, error = 0.30743243243243246 train, 0.1993432754138733 test\n",
      "Pick 286, error = 0.29966329966329963 train, 0.19948009303598302 test\n",
      "Pick 287, error = 0.25503355704697983 train, 0.19824873443699553 test\n",
      "Pick 288, error = 0.2642140468227425 train, 0.19838555205910524 test\n",
      "Pick 289, error = 0.2666666666666667 train, 0.19852236968121495 test\n",
      "Pick 290, error = 0.25249169435215946 train, 0.1981119168148857 test\n",
      "Pick 291, error = 0.26158940397350994 train, 0.19852236968121495 test\n",
      "Pick 292, error = 0.2805280528052805 train, 0.19948009303598302 test\n",
      "Pick 293, error = 0.2598684210526315 train, 0.1981119168148857 test\n",
      "Pick 294, error = 0.2786885245901639 train, 0.1993432754138733 test\n",
      "Pick 295, error = 0.2712418300653595 train, 0.1981119168148857 test\n",
      "Pick 296, error = 0.28338762214983715 train, 0.19879600492543437 test\n",
      "Pick 297, error = 0.2727272727272727 train, 0.19865918730332466 test\n",
      "Pick 298, error = 0.3042071197411004 train, 0.19865918730332466 test\n",
      "Pick 299, error = 0.2645161290322581 train, 0.19838555205910524 test\n",
      "Pick 300, error = 0.2572347266881029 train, 0.19865918730332466 test\n",
      "Pick 301, error = 0.2596153846153846 train, 0.19879600492543437 test\n",
      "Pick 302, error = 0.2587859424920128 train, 0.1981119168148857 test\n",
      "Pick 303, error = 0.2611464968152867 train, 0.19824873443699553 test\n",
      "Pick 304, error = 0.2666666666666667 train, 0.19893282254754407 test\n",
      "Pick 305, error = 0.26582278481012656 train, 0.19852236968121495 test\n",
      "Pick 306, error = 0.26498422712933756 train, 0.1981119168148857 test\n",
      "Pick 307, error = 0.28616352201257866 train, 0.1990696401696539 test\n",
      "Pick 308, error = 0.2601880877742947 train, 0.19852236968121495 test\n",
      "Pick 309, error = 0.265625 train, 0.19879600492543437 test\n",
      "Pick 310, error = 0.26168224299065423 train, 0.19893282254754407 test\n",
      "Pick 311, error = 0.28260869565217395 train, 0.19893282254754407 test\n",
      "Pick 312, error = 0.27244582043343657 train, 0.19865918730332466 test\n",
      "Pick 313, error = 0.26234567901234573 train, 0.19879600492543437 test\n",
      "Pick 314, error = 0.2830769230769231 train, 0.1990696401696539 test\n",
      "Pick 315, error = 0.2760736196319018 train, 0.19879600492543437 test\n",
      "Pick 316, error = 0.25076452599388377 train, 0.19865918730332466 test\n",
      "Pick 317, error = 0.24085365853658536 train, 0.19879600492543437 test\n",
      "Pick 318, error = 0.25531914893617025 train, 0.19865918730332466 test\n",
      "Pick 319, error = 0.26969696969696966 train, 0.19893282254754407 test\n",
      "Pick 320, error = 0.2537764350453172 train, 0.19879600492543437 test\n",
      "Pick 321, error = 0.25903614457831325 train, 0.19879600492543437 test\n",
      "Pick 322, error = 0.2552552552552553 train, 0.19838555205910524 test\n",
      "Pick 323, error = 0.3023952095808383 train, 0.19879600492543437 test\n",
      "Pick 324, error = 0.29552238805970155 train, 0.19838555205910524 test\n",
      "Pick 325, error = 0.27083333333333337 train, 0.19879600492543437 test\n",
      "Pick 326, error = 0.24332344213649848 train, 0.19893282254754407 test\n",
      "Pick 327, error = 0.2603550295857988 train, 0.1981119168148857 test\n",
      "Pick 328, error = 0.2625368731563422 train, 0.19824873443699553 test\n",
      "Pick 329, error = 0.2823529411764706 train, 0.1992064577917636 test\n",
      "Pick 330, error = 0.32551319648093846 train, 0.19824873443699553 test\n",
      "Pick 331, error = 0.26023391812865493 train, 0.19879600492543437 test\n",
      "Pick 332, error = 0.24489795918367352 train, 0.19879600492543437 test\n",
      "Pick 333, error = 0.25872093023255816 train, 0.1981119168148857 test\n",
      "Pick 334, error = 0.2579710144927536 train, 0.19865918730332466 test\n",
      "Pick 335, error = 0.2601156069364162 train, 0.1981119168148857 test\n",
      "Pick 336, error = 0.3141210374639769 train, 0.19879600492543437 test\n",
      "Pick 337, error = 0.25 train, 0.19865918730332466 test\n",
      "Pick 338, error = 0.26361031518624645 train, 0.1978382815706663 test\n",
      "Pick 339, error = 0.2628571428571429 train, 0.1981119168148857 test\n",
      "Pick 340, error = 0.2706552706552706 train, 0.19852236968121495 test\n",
      "Pick 341, error = 0.2642045454545454 train, 0.19824873443699553 test\n",
      "Pick 342, error = 0.3031161473087819 train, 0.19879600492543437 test\n",
      "Pick 343, error = 0.268361581920904 train, 0.197975099192776 test\n",
      "Pick 344, error = 0.2788732394366197 train, 0.1992064577917636 test\n",
      "Pick 345, error = 0.2696629213483146 train, 0.19838555205910524 test\n",
      "Pick 346, error = 0.26050420168067223 train, 0.19824873443699553 test\n",
      "Pick 347, error = 0.26815642458100564 train, 0.19824873443699553 test\n",
      "Pick 348, error = 0.3008356545961003 train, 0.1992064577917636 test\n",
      "Pick 349, error = 0.2777777777777778 train, 0.19852236968121495 test\n",
      "Pick 350, error = 0.2659279778393352 train, 0.19729101108222735 test\n",
      "Pick 351, error = 0.2624309392265194 train, 0.197975099192776 test\n",
      "Pick 352, error = 0.2837465564738292 train, 0.19865918730332466 test\n",
      "Pick 353, error = 0.271978021978022 train, 0.197975099192776 test\n",
      "Pick 354, error = 0.29315068493150687 train, 0.19879600492543437 test\n",
      "Pick 355, error = 0.30601092896174864 train, 0.19893282254754407 test\n",
      "Pick 356, error = 0.3079019073569482 train, 0.1990696401696539 test\n",
      "Pick 357, error = 0.30163043478260865 train, 0.1990696401696539 test\n",
      "Pick 358, error = 0.31165311653116534 train, 0.19865918730332466 test\n",
      "Pick 359, error = 0.28378378378378377 train, 0.19838555205910524 test\n",
      "Pick 360, error = 0.30188679245283023 train, 0.19838555205910524 test\n",
      "Pick 361, error = 0.26344086021505375 train, 0.1977014639485566 test\n",
      "Pick 362, error = 0.26809651474530827 train, 0.1977014639485566 test\n",
      "Pick 363, error = 0.2727272727272727 train, 0.19756464632644688 test\n",
      "Pick 364, error = 0.272 train, 0.19729101108222735 test\n",
      "Pick 365, error = 0.2978723404255319 train, 0.19824873443699553 test\n",
      "Pick 366, error = 0.27055702917771884 train, 0.19742782870433717 test\n",
      "Pick 367, error = 0.2857142857142857 train, 0.19756464632644688 test\n",
      "Pick 368, error = 0.27440633245382584 train, 0.197975099192776 test\n",
      "Pick 369, error = 0.2947368421052632 train, 0.197975099192776 test\n",
      "Pick 370, error = 0.2992125984251969 train, 0.1978382815706663 test\n",
      "Pick 371, error = 0.2801047120418848 train, 0.1977014639485566 test\n",
      "Pick 372, error = 0.31592689295039167 train, 0.1981119168148857 test\n",
      "Pick 373, error = 0.29947916666666663 train, 0.1981119168148857 test\n",
      "Pick 374, error = 0.3064935064935065 train, 0.1981119168148857 test\n",
      "Pick 375, error = 0.272020725388601 train, 0.19729101108222735 test\n",
      "Pick 376, error = 0.2945736434108527 train, 0.19852236968121495 test\n",
      "Pick 377, error = 0.30927835051546393 train, 0.197975099192776 test\n",
      "Pick 378, error = 0.28791773778920304 train, 0.19756464632644688 test\n",
      "Pick 379, error = 0.2974358974358975 train, 0.197975099192776 test\n",
      "Pick 380, error = 0.30179028132992325 train, 0.19838555205910524 test\n",
      "Pick 381, error = 0.3086734693877551 train, 0.1981119168148857 test\n",
      "Pick 382, error = 0.27226463104325704 train, 0.1978382815706663 test\n",
      "Pick 383, error = 0.30203045685279184 train, 0.197975099192776 test\n",
      "Pick 384, error = 0.2860759493670886 train, 0.19729101108222735 test\n",
      "Pick 385, error = 0.303030303030303 train, 0.19715419346011764 test\n",
      "Pick 386, error = 0.2871536523929471 train, 0.19688055821589823 test\n",
      "Pick 387, error = 0.29648241206030146 train, 0.1981119168148857 test\n",
      "Pick 388, error = 0.3007518796992481 train, 0.19852236968121495 test\n",
      "Pick 389, error = 0.2825 train, 0.19756464632644688 test\n",
      "Pick 390, error = 0.286783042394015 train, 0.1978382815706663 test\n",
      "Pick 391, error = 0.31343283582089554 train, 0.1977014639485566 test\n",
      "Pick 392, error = 0.32754342431761785 train, 0.197975099192776 test\n",
      "Pick 393, error = 0.27722772277227725 train, 0.19742782870433717 test\n",
      "Pick 394, error = 0.274074074074074 train, 0.19756464632644688 test\n",
      "Pick 395, error = 0.3004926108374384 train, 0.197975099192776 test\n",
      "Pick 396, error = 0.2825552825552825 train, 0.1977014639485566 test\n",
      "Pick 397, error = 0.303921568627451 train, 0.197975099192776 test\n",
      "Pick 398, error = 0.28117359413202936 train, 0.19742782870433717 test\n",
      "Pick 399, error = 0.29512195121951224 train, 0.1977014639485566 test\n",
      "Pick 400, error = 0.2846715328467153 train, 0.19688055821589823 test\n",
      "Pick 401, error = 0.28640776699029125 train, 0.19715419346011764 test\n",
      "Pick 402, error = 0.2808716707021792 train, 0.1977014639485566 test\n",
      "Pick 403, error = 0.2995169082125604 train, 0.1981119168148857 test\n",
      "Pick 404, error = 0.31084337349397595 train, 0.1981119168148857 test\n",
      "Pick 405, error = 0.29567307692307687 train, 0.19742782870433717 test\n",
      "Pick 406, error = 0.2925659472422062 train, 0.19729101108222735 test\n",
      "Pick 407, error = 0.29425837320574166 train, 0.19729101108222735 test\n",
      "Pick 408, error = 0.31026252983293556 train, 0.1978382815706663 test\n",
      "Pick 409, error = 0.29047619047619044 train, 0.19742782870433717 test\n",
      "Pick 410, error = 0.2897862232779097 train, 0.19756464632644688 test\n",
      "Pick 411, error = 0.3222748815165877 train, 0.1978382815706663 test\n",
      "Pick 412, error = 0.2907801418439716 train, 0.19729101108222735 test\n",
      "Pick 413, error = 0.32547169811320753 train, 0.19729101108222735 test\n",
      "Pick 414, error = 0.29647058823529415 train, 0.19701737583800794 test\n",
      "Pick 415, error = 0.2816901408450704 train, 0.19715419346011764 test\n",
      "Pick 416, error = 0.360655737704918 train, 0.1978382815706663 test\n",
      "Pick 417, error = 0.30140186915887845 train, 0.19674374059378852 test\n",
      "Pick 418, error = 0.29836829836829837 train, 0.19688055821589823 test\n",
      "Pick 419, error = 0.2930232558139535 train, 0.19701737583800794 test\n",
      "Pick 420, error = 0.31090487238979114 train, 0.196470105349569 test\n",
      "Pick 421, error = 0.32638888888888884 train, 0.19756464632644688 test\n",
      "Pick 422, error = 0.3464203233256351 train, 0.19701737583800794 test\n",
      "Pick 423, error = 0.2926267281105991 train, 0.19715419346011764 test\n",
      "Pick 424, error = 0.33793103448275863 train, 0.19715419346011764 test\n",
      "Pick 425, error = 0.30963302752293576 train, 0.19688055821589823 test\n",
      "Pick 426, error = 0.29519450800915337 train, 0.19715419346011764 test\n",
      "Pick 427, error = 0.32420091324200917 train, 0.19701737583800794 test\n",
      "Pick 428, error = 0.29612756264236906 train, 0.19688055821589823 test\n",
      "Pick 429, error = 0.3318181818181818 train, 0.1977014639485566 test\n",
      "Pick 430, error = 0.32879818594104304 train, 0.19674374059378852 test\n",
      "Pick 431, error = 0.3054298642533937 train, 0.19729101108222735 test\n",
      "Pick 432, error = 0.2979683972911964 train, 0.19729101108222735 test\n",
      "Pick 433, error = 0.29729729729729726 train, 0.19715419346011764 test\n",
      "Pick 434, error = 0.2966292134831461 train, 0.19701737583800794 test\n",
      "Pick 435, error = 0.3004484304932735 train, 0.196470105349569 test\n",
      "Pick 436, error = 0.3064876957494407 train, 0.196470105349569 test\n",
      "Pick 437, error = 0.3013392857142857 train, 0.19688055821589823 test\n",
      "Pick 438, error = 0.29398663697104677 train, 0.19674374059378852 test\n",
      "Pick 439, error = 0.2911111111111111 train, 0.19578601723902034 test\n",
      "Pick 440, error = 0.31707317073170727 train, 0.1966069229716787 test\n",
      "Pick 441, error = 0.30309734513274333 train, 0.19688055821589823 test\n",
      "Pick 442, error = 0.2869757174392936 train, 0.19701737583800794 test\n",
      "Pick 443, error = 0.29955947136563876 train, 0.19578601723902034 test\n",
      "Pick 444, error = 0.31648351648351647 train, 0.19633328772745928 test\n",
      "Pick 445, error = 0.3135964912280702 train, 0.19551238199480092 test\n",
      "Pick 446, error = 0.3150984682713348 train, 0.1951019291284718 test\n",
      "Pick 447, error = 0.32751091703056767 train, 0.19742782870433717 test\n",
      "Pick 448, error = 0.3464052287581699 train, 0.19715419346011764 test\n",
      "Pick 449, error = 0.29130434782608694 train, 0.1966069229716787 test\n",
      "Pick 450, error = 0.34490238611713664 train, 0.1966069229716787 test\n",
      "Pick 451, error = 0.35497835497835495 train, 0.19701737583800794 test\n",
      "Pick 452, error = 0.3390928725701944 train, 0.1966069229716787 test\n",
      "Pick 453, error = 0.2931034482758621 train, 0.19592283486113016 test\n",
      "Pick 454, error = 0.3182795698924731 train, 0.19715419346011764 test\n",
      "Pick 455, error = 0.2896995708154506 train, 0.19633328772745928 test\n",
      "Pick 456, error = 0.2955032119914347 train, 0.19551238199480092 test\n",
      "Pick 457, error = 0.2991452991452992 train, 0.1966069229716787 test\n",
      "Pick 458, error = 0.29850746268656714 train, 0.196470105349569 test\n",
      "Pick 459, error = 0.3042553191489362 train, 0.19619647010534957 test\n",
      "Pick 460, error = 0.3184713375796179 train, 0.1966069229716787 test\n",
      "Pick 461, error = 0.2923728813559322 train, 0.1953755643726912 test\n",
      "Pick 462, error = 0.33403805496828753 train, 0.19729101108222735 test\n",
      "Pick 463, error = 0.2932489451476793 train, 0.19564919961691063 test\n",
      "Pick 464, error = 0.3136842105263158 train, 0.19592283486113016 test\n",
      "Pick 465, error = 0.33613445378151263 train, 0.196470105349569 test\n",
      "Pick 466, error = 0.28721174004192873 train, 0.19619647010534957 test\n",
      "Pick 467, error = 0.2907949790794979 train, 0.19578601723902034 test\n",
      "Pick 468, error = 0.32776617954070986 train, 0.196470105349569 test\n",
      "Pick 469, error = 0.29374999999999996 train, 0.19578601723902034 test\n",
      "Pick 470, error = 0.32432432432432434 train, 0.19619647010534957 test\n",
      "Pick 471, error = 0.29460580912863066 train, 0.19578601723902034 test\n",
      "Pick 472, error = 0.2919254658385093 train, 0.19482829388425227 test\n",
      "Pick 473, error = 0.29338842975206614 train, 0.19551238199480092 test\n",
      "Pick 474, error = 0.2865979381443299 train, 0.1951019291284718 test\n",
      "Pick 475, error = 0.2962962962962963 train, 0.1951019291284718 test\n",
      "Pick 476, error = 0.28952772073921973 train, 0.19455465864003285 test\n",
      "Pick 477, error = 0.30327868852459017 train, 0.19496511150636198 test\n",
      "Pick 478, error = 0.33537832310838445 train, 0.19633328772745928 test\n",
      "Pick 479, error = 0.3040816326530612 train, 0.19605965248323987 test\n",
      "Pick 480, error = 0.3360488798370672 train, 0.19592283486113016 test\n",
      "Pick 481, error = 0.29065040650406504 train, 0.1940073881515939 test\n",
      "Pick 482, error = 0.31034482758620685 train, 0.19551238199480092 test\n",
      "Pick 483, error = 0.32793522267206476 train, 0.19564919961691063 test\n",
      "Pick 484, error = 0.30707070707070705 train, 0.1953755643726912 test\n",
      "Pick 485, error = 0.3004032258064516 train, 0.1952387467505815 test\n",
      "Pick 486, error = 0.30784708249496984 train, 0.19482829388425227 test\n",
      "Pick 487, error = 0.33333333333333337 train, 0.19578601723902034 test\n",
      "Pick 488, error = 0.33266533066132264 train, 0.19592283486113016 test\n",
      "Pick 489, error = 0.31399999999999995 train, 0.19564919961691063 test\n",
      "Pick 490, error = 0.29740518962075846 train, 0.1952387467505815 test\n",
      "Pick 491, error = 0.3227091633466136 train, 0.19469147626214256 test\n",
      "Pick 492, error = 0.30417495029821073 train, 0.19496511150636198 test\n",
      "Pick 493, error = 0.3571428571428571 train, 0.19605965248323987 test\n",
      "Pick 494, error = 0.31881188118811876 train, 0.19469147626214256 test\n",
      "Pick 495, error = 0.31225296442687744 train, 0.19441784101792314 test\n",
      "Pick 496, error = 0.3195266272189349 train, 0.19605965248323987 test\n",
      "Pick 497, error = 0.31299212598425197 train, 0.1952387467505815 test\n",
      "Pick 498, error = 0.31434184675834975 train, 0.19592283486113016 test\n",
      "Pick 499, error = 0.307843137254902 train, 0.19496511150636198 test\n",
      "Pick 500, error = 0.29941291585127205 train, 0.19551238199480092 test\n",
      "Pick 501, error = 0.298828125 train, 0.19605965248323987 test\n",
      "Pick 502, error = 0.33333333333333337 train, 0.19592283486113016 test\n",
      "Pick 503, error = 0.35019455252918286 train, 0.19674374059378852 test\n",
      "Pick 504, error = 0.3106796116504854 train, 0.19592283486113016 test\n",
      "Pick 505, error = 0.3081395348837209 train, 0.1966069229716787 test\n",
      "Pick 506, error = 0.30754352030947774 train, 0.1952387467505815 test\n",
      "Pick 507, error = 0.3513513513513513 train, 0.196470105349569 test\n",
      "Pick 508, error = 0.2986512524084779 train, 0.19428102339581343 test\n",
      "Pick 509, error = 0.3173076923076923 train, 0.19469147626214256 test\n",
      "Pick 510, error = 0.3186180422264875 train, 0.19469147626214256 test\n",
      "Pick 511, error = 0.3007662835249042 train, 0.19469147626214256 test\n",
      "Pick 512, error = 0.30210325047801145 train, 0.19496511150636198 test\n",
      "Pick 513, error = 0.33206106870229013 train, 0.1952387467505815 test\n",
      "Pick 514, error = 0.3085714285714286 train, 0.19482829388425227 test\n",
      "Pick 515, error = 0.31558935361216733 train, 0.19455465864003285 test\n",
      "Pick 516, error = 0.31878557874762803 train, 0.19482829388425227 test\n",
      "Pick 517, error = 0.2935606060606061 train, 0.19359693528526478 test\n",
      "Pick 518, error = 0.29300567107750475 train, 0.19482829388425227 test\n",
      "Pick 519, error = 0.28490566037735854 train, 0.19455465864003285 test\n",
      "Pick 520, error = 0.29378531073446323 train, 0.1937337529073745 test\n",
      "Pick 521, error = 0.29887218045112784 train, 0.1951019291284718 test\n",
      "Pick 522, error = 0.3433395872420263 train, 0.19496511150636198 test\n",
      "Pick 523, error = 0.3370786516853933 train, 0.19455465864003285 test\n",
      "Pick 524, error = 0.3289719626168224 train, 0.19482829388425227 test\n",
      "Pick 525, error = 0.2873134328358209 train, 0.19496511150636198 test\n",
      "Pick 526, error = 0.297951582867784 train, 0.19469147626214256 test\n",
      "Pick 527, error = 0.3382899628252788 train, 0.19469147626214256 test\n",
      "Pick 528, error = 0.33580705009276435 train, 0.19441784101792314 test\n",
      "Pick 529, error = 0.2925925925925926 train, 0.19455465864003285 test\n",
      "Pick 530, error = 0.33641404805914976 train, 0.19469147626214256 test\n",
      "Pick 531, error = 0.3025830258302583 train, 0.19414420577370362 test\n",
      "Pick 532, error = 0.3370165745856354 train, 0.1951019291284718 test\n",
      "Pick 533, error = 0.3621323529411765 train, 0.19496511150636198 test\n",
      "Pick 534, error = 0.3302752293577982 train, 0.19455465864003285 test\n",
      "Pick 535, error = 0.31135531135531136 train, 0.19455465864003285 test\n",
      "Pick 536, error = 0.29798903107861063 train, 0.1951019291284718 test\n",
      "Pick 537, error = 0.2956204379562044 train, 0.19332330004104525 test\n",
      "Pick 538, error = 0.34061930783242256 train, 0.19469147626214256 test\n",
      "Pick 539, error = 0.35090909090909095 train, 0.19482829388425227 test\n",
      "Pick 540, error = 0.29764065335753176 train, 0.19291284717471613 test\n",
      "Pick 541, error = 0.30797101449275366 train, 0.1938705705294842 test\n",
      "Pick 542, error = 0.2839059674502713 train, 0.19291284717471613 test\n",
      "Pick 543, error = 0.32310469314079426 train, 0.19441784101792314 test\n",
      "Pick 544, error = 0.32432432432432434 train, 0.19414420577370362 test\n",
      "Pick 545, error = 0.2985611510791367 train, 0.19346011766315496 test\n",
      "Pick 546, error = 0.2926391382405745 train, 0.19346011766315496 test\n",
      "Pick 547, error = 0.30645161290322576 train, 0.1938705705294842 test\n",
      "Pick 548, error = 0.3076923076923077 train, 0.1937337529073745 test\n",
      "Pick 549, error = 0.3125 train, 0.19428102339581343 test\n",
      "Pick 550, error = 0.303030303030303 train, 0.19359693528526478 test\n",
      "Pick 551, error = 0.33807829181494664 train, 0.1937337529073745 test\n",
      "Pick 552, error = 0.29484902309058614 train, 0.19346011766315496 test\n",
      "Pick 553, error = 0.31737588652482274 train, 0.19414420577370362 test\n",
      "Pick 554, error = 0.2920353982300885 train, 0.19318648241893555 test\n",
      "Pick 555, error = 0.33215547703180215 train, 0.19359693528526478 test\n",
      "Pick 556, error = 0.2892416225749559 train, 0.19318648241893555 test\n",
      "Pick 557, error = 0.31690140845070425 train, 0.19318648241893555 test\n",
      "Pick 558, error = 0.33040421792618624 train, 0.19414420577370362 test\n",
      "Pick 559, error = 0.31052631578947365 train, 0.19441784101792314 test\n",
      "Pick 560, error = 0.30122591943957966 train, 0.19346011766315496 test\n",
      "Pick 561, error = 0.2954545454545454 train, 0.1926392119304966 test\n",
      "Pick 562, error = 0.30541012216404884 train, 0.19332330004104525 test\n",
      "Pick 563, error = 0.32752613240418116 train, 0.19332330004104525 test\n",
      "Pick 564, error = 0.3234782608695652 train, 0.1937337529073745 test\n",
      "Pick 565, error = 0.3506944444444444 train, 0.19441784101792314 test\n",
      "Pick 566, error = 0.3188908145580589 train, 0.19291284717471613 test\n",
      "Pick 567, error = 0.3044982698961938 train, 0.19318648241893555 test\n",
      "Pick 568, error = 0.2970639032815199 train, 0.19277602955260642 test\n",
      "Pick 569, error = 0.32068965517241377 train, 0.1940073881515939 test\n",
      "Pick 570, error = 0.3012048192771084 train, 0.19277602955260642 test\n",
      "Pick 571, error = 0.3539518900343642 train, 0.1938705705294842 test\n",
      "Pick 572, error = 0.3276157804459692 train, 0.19359693528526478 test\n",
      "Pick 573, error = 0.32191780821917804 train, 0.19414420577370362 test\n",
      "Pick 574, error = 0.3487179487179487 train, 0.1938705705294842 test\n",
      "Pick 575, error = 0.3054607508532423 train, 0.19318648241893555 test\n",
      "Pick 576, error = 0.29982964224872233 train, 0.19291284717471613 test\n",
      "Pick 577, error = 0.34013605442176875 train, 0.19346011766315496 test\n",
      "Pick 578, error = 0.31409168081494054 train, 0.19236557668627718 test\n",
      "Pick 579, error = 0.28644067796610173 train, 0.1926392119304966 test\n",
      "Pick 580, error = 0.3079526226734348 train, 0.19304966479682584 test\n",
      "Pick 581, error = 0.2922297297297297 train, 0.19304966479682584 test\n",
      "Pick 582, error = 0.2900505902192243 train, 0.19332330004104525 test\n",
      "Pick 583, error = 0.30134680134680136 train, 0.19332330004104525 test\n",
      "Pick 584, error = 0.3008403361344538 train, 0.19346011766315496 test\n",
      "Pick 585, error = 0.3657718120805369 train, 0.1937337529073745 test\n",
      "Pick 586, error = 0.33333333333333337 train, 0.1937337529073745 test\n",
      "Pick 587, error = 0.3093645484949833 train, 0.19414420577370362 test\n",
      "Pick 588, error = 0.27712854757929883 train, 0.1912710357093994 test\n",
      "Pick 589, error = 0.2816666666666666 train, 0.19058694759885075 test\n",
      "Pick 590, error = 0.3061564059900166 train, 0.19277602955260642 test\n",
      "Pick 591, error = 0.32558139534883723 train, 0.19277602955260642 test\n",
      "Pick 592, error = 0.32504145936981754 train, 0.1925023943083869 test\n",
      "Pick 593, error = 0.32947019867549665 train, 0.19277602955260642 test\n",
      "Pick 594, error = 0.30082644628099175 train, 0.19236557668627718 test\n",
      "Pick 595, error = 0.306930693069307 train, 0.19181830619783824 test\n",
      "Pick 596, error = 0.2932454695222405 train, 0.19086058284307017 test\n",
      "Pick 597, error = 0.305921052631579 train, 0.19195512381994806 test\n",
      "Pick 598, error = 0.2922824302134647 train, 0.19168148857572853 test\n",
      "Pick 599, error = 0.3459016393442623 train, 0.19441784101792314 test\n",
      "Pick 600, error = 0.28968903436988547 train, 0.1912710357093994 test\n",
      "Pick 601, error = 0.3415032679738562 train, 0.19304966479682584 test\n",
      "Pick 602, error = 0.2985318107667211 train, 0.19209194144205777 test\n",
      "Pick 603, error = 0.28827361563517917 train, 0.19086058284307017 test\n",
      "Pick 604, error = 0.2894308943089431 train, 0.19209194144205777 test\n",
      "Pick 605, error = 0.3295454545454546 train, 0.19236557668627718 test\n",
      "Pick 606, error = 0.3403565640194489 train, 0.1926392119304966 test\n",
      "Pick 607, error = 0.28802588996763756 train, 0.19140785333150911 test\n",
      "Pick 608, error = 0.3101777059773829 train, 0.19181830619783824 test\n",
      "Pick 609, error = 0.3467741935483871 train, 0.19222875906416748 test\n",
      "Pick 610, error = 0.2930756843800322 train, 0.19045012997674104 test\n",
      "Pick 611, error = 0.292604501607717 train, 0.19058694759885075 test\n",
      "Pick 612, error = 0.3001605136436597 train, 0.19099740046517988 test\n",
      "Pick 613, error = 0.3285256410256411 train, 0.19140785333150911 test\n",
      "Pick 614, error = 0.29279999999999995 train, 0.1912710357093994 test\n",
      "Pick 615, error = 0.3849840255591054 train, 0.1940073881515939 test\n",
      "Pick 616, error = 0.31259968102073366 train, 0.19181830619783824 test\n",
      "Pick 617, error = 0.30891719745222934 train, 0.1900396771104118 test\n",
      "Pick 618, error = 0.29570747217806037 train, 0.1911342180872897 test\n",
      "Pick 619, error = 0.3682539682539683 train, 0.19291284717471613 test\n",
      "Pick 620, error = 0.2979397781299524 train, 0.1912710357093994 test\n",
      "Pick 621, error = 0.305379746835443 train, 0.19236557668627718 test\n",
      "Pick 622, error = 0.30805687203791465 train, 0.1912710357093994 test\n",
      "Pick 623, error = 0.30126182965299686 train, 0.19045012997674104 test\n",
      "Pick 624, error = 0.3228346456692913 train, 0.19140785333150911 test\n",
      "Pick 625, error = 0.30817610062893086 train, 0.19072376522096046 test\n",
      "Pick 626, error = 0.2904238618524333 train, 0.19045012997674104 test\n",
      "Pick 627, error = 0.30094043887147337 train, 0.19058694759885075 test\n",
      "Pick 628, error = 0.28951486697965567 train, 0.19031331235463123 test\n",
      "Pick 629, error = 0.2875 train, 0.19045012997674104 test\n",
      "Pick 630, error = 0.3042121684867395 train, 0.19017649473252152 test\n",
      "Pick 631, error = 0.31464174454828664 train, 0.19154467095361882 test\n",
      "Pick 632, error = 0.3094867807153966 train, 0.1911342180872897 test\n",
      "Pick 633, error = 0.2996894409937888 train, 0.1900396771104118 test\n",
      "Pick 634, error = 0.29767441860465116 train, 0.19099740046517988 test\n",
      "Pick 635, error = 0.32507739938080493 train, 0.19195512381994806 test\n",
      "Pick 636, error = 0.2936630602782071 train, 0.19086058284307017 test\n",
      "Pick 637, error = 0.2885802469135802 train, 0.1899028594883021 test\n",
      "Pick 638, error = 0.3420647149460708 train, 0.19291284717471613 test\n",
      "Pick 639, error = 0.2861538461538462 train, 0.1897660418661924 test\n",
      "Pick 640, error = 0.31490015360983103 train, 0.19140785333150911 test\n",
      "Pick 641, error = 0.2883435582822086 train, 0.19058694759885075 test\n",
      "Pick 642, error = 0.29249617151607965 train, 0.1900396771104118 test\n",
      "Pick 643, error = 0.28593272171253825 train, 0.18935558899986316 test\n",
      "Pick 644, error = 0.30381679389312977 train, 0.19086058284307017 test\n",
      "Pick 645, error = 0.28810975609756095 train, 0.1899028594883021 test\n"
     ]
    },
    {
     "ename": "KeyboardInterrupt",
     "evalue": "",
     "output_type": "error",
     "traceback": [
      "\u001b[0;31m---------------------------------------------------------------------------\u001b[0m",
      "\u001b[0;31mKeyboardInterrupt\u001b[0m                         Traceback (most recent call last)",
      "\u001b[0;32m<ipython-input-24-fb9e4a09028d>\u001b[0m in \u001b[0;36m<module>\u001b[0;34m()\u001b[0m\n\u001b[1;32m      1\u001b[0m \u001b[0mget_ipython\u001b[0m\u001b[0;34m(\u001b[0m\u001b[0;34m)\u001b[0m\u001b[0;34m.\u001b[0m\u001b[0mmagic\u001b[0m\u001b[0;34m(\u001b[0m\u001b[0;34m'matplotlib inline'\u001b[0m\u001b[0;34m)\u001b[0m\u001b[0;34m\u001b[0m\u001b[0m\n\u001b[0;32m----> 2\u001b[0;31m \u001b[0;34m(\u001b[0m\u001b[0mE_in_1\u001b[0m\u001b[0;34m,\u001b[0m\u001b[0mE_in_2\u001b[0m\u001b[0;34m,\u001b[0m\u001b[0mE_out_1\u001b[0m\u001b[0;34m,\u001b[0m\u001b[0mE_out_2\u001b[0m\u001b[0;34m)\u001b[0m\u001b[0;34m=\u001b[0m\u001b[0mactive_learning\u001b[0m\u001b[0;34m(\u001b[0m\u001b[0mdata\u001b[0m\u001b[0;34m,\u001b[0m\u001b[0mlabels\u001b[0m\u001b[0;34m,\u001b[0m\u001b[0mtest_size\u001b[0m\u001b[0;34m,\u001b[0m\u001b[0mn_labeled\u001b[0m\u001b[0;34m)\u001b[0m\u001b[0;34m\u001b[0m\u001b[0m\n\u001b[0m\u001b[1;32m      3\u001b[0m \u001b[0mprint\u001b[0m\u001b[0;34m(\u001b[0m\u001b[0mE_out_1\u001b[0m\u001b[0;34m,\u001b[0m\u001b[0mE_out_2\u001b[0m\u001b[0;34m)\u001b[0m\u001b[0;34m\u001b[0m\u001b[0m\n",
      "\u001b[0;32m<ipython-input-23-d81703d89f9e>\u001b[0m in \u001b[0;36mactive_learning\u001b[0;34m(data, labels, test_size, n_labeled)\u001b[0m\n\u001b[1;32m     61\u001b[0m     \u001b[0mqs\u001b[0m \u001b[0;34m=\u001b[0m \u001b[0mUncertaintySampling\u001b[0m\u001b[0;34m(\u001b[0m\u001b[0mtrn_ds\u001b[0m\u001b[0;34m,\u001b[0m \u001b[0mmethod\u001b[0m\u001b[0;34m=\u001b[0m\u001b[0;34m'lc'\u001b[0m\u001b[0;34m,\u001b[0m \u001b[0mmodel\u001b[0m\u001b[0;34m=\u001b[0m\u001b[0mLogisticRegression\u001b[0m\u001b[0;34m(\u001b[0m\u001b[0;34m)\u001b[0m\u001b[0;34m)\u001b[0m\u001b[0;34m\u001b[0m\u001b[0m\n\u001b[1;32m     62\u001b[0m     \u001b[0mmodel\u001b[0m \u001b[0;34m=\u001b[0m \u001b[0mLogisticRegression\u001b[0m\u001b[0;34m(\u001b[0m\u001b[0;34m)\u001b[0m\u001b[0;34m\u001b[0m\u001b[0m\n\u001b[0;32m---> 63\u001b[0;31m     \u001b[0mE_in_1\u001b[0m\u001b[0;34m,\u001b[0m \u001b[0mE_out_1\u001b[0m \u001b[0;34m=\u001b[0m \u001b[0mrun\u001b[0m\u001b[0;34m(\u001b[0m\u001b[0mtrn_ds\u001b[0m\u001b[0;34m,\u001b[0m \u001b[0mtst_ds\u001b[0m\u001b[0;34m,\u001b[0m \u001b[0mlbr\u001b[0m\u001b[0;34m,\u001b[0m \u001b[0mmodel\u001b[0m\u001b[0;34m,\u001b[0m \u001b[0mqs\u001b[0m\u001b[0;34m,\u001b[0m \u001b[0mquota\u001b[0m\u001b[0;34m)\u001b[0m\u001b[0;34m\u001b[0m\u001b[0m\n\u001b[0m\u001b[1;32m     64\u001b[0m \u001b[0;34m\u001b[0m\u001b[0m\n\u001b[1;32m     65\u001b[0m     \u001b[0mprint\u001b[0m\u001b[0;34m(\u001b[0m\u001b[0;34m\"Running RandomSampling...\"\u001b[0m\u001b[0;34m)\u001b[0m\u001b[0;34m\u001b[0m\u001b[0m\n",
      "\u001b[0;32m<ipython-input-23-d81703d89f9e>\u001b[0m in \u001b[0;36mrun\u001b[0;34m(trn_ds, tst_ds, lbr, model, qs, quota)\u001b[0m\n\u001b[1;32m     21\u001b[0m \u001b[0;34m\u001b[0m\u001b[0m\n\u001b[1;32m     22\u001b[0m         \u001b[0;31m# Standard usage of libact objects\u001b[0m\u001b[0;34m\u001b[0m\u001b[0;34m\u001b[0m\u001b[0m\n\u001b[0;32m---> 23\u001b[0;31m         \u001b[0mask_id\u001b[0m \u001b[0;34m=\u001b[0m \u001b[0mqs\u001b[0m\u001b[0;34m.\u001b[0m\u001b[0mmake_query\u001b[0m\u001b[0;34m(\u001b[0m\u001b[0;34m)\u001b[0m\u001b[0;34m\u001b[0m\u001b[0m\n\u001b[0m\u001b[1;32m     24\u001b[0m         \u001b[0mX\u001b[0m\u001b[0;34m,\u001b[0m \u001b[0m_\u001b[0m \u001b[0;34m=\u001b[0m \u001b[0mzip\u001b[0m\u001b[0;34m(\u001b[0m\u001b[0;34m*\u001b[0m\u001b[0mtrn_ds\u001b[0m\u001b[0;34m.\u001b[0m\u001b[0mdata\u001b[0m\u001b[0;34m)\u001b[0m\u001b[0;34m\u001b[0m\u001b[0m\n\u001b[1;32m     25\u001b[0m         \u001b[0mlb\u001b[0m \u001b[0;34m=\u001b[0m \u001b[0mlbr\u001b[0m\u001b[0;34m.\u001b[0m\u001b[0mlabel\u001b[0m\u001b[0;34m(\u001b[0m\u001b[0mX\u001b[0m\u001b[0;34m[\u001b[0m\u001b[0mask_id\u001b[0m\u001b[0;34m]\u001b[0m\u001b[0;34m)\u001b[0m\u001b[0;34m\u001b[0m\u001b[0m\n",
      "\u001b[0;32m/Users/megret/anaconda/envs/bnl/lib/python3.5/site-packages/libact/query_strategies/uncertainty_sampling.py\u001b[0m in \u001b[0;36mmake_query\u001b[0;34m(self, return_score)\u001b[0m\n\u001b[1;32m    112\u001b[0m         \"\"\"\n\u001b[1;32m    113\u001b[0m         \u001b[0mdataset\u001b[0m \u001b[0;34m=\u001b[0m \u001b[0mself\u001b[0m\u001b[0;34m.\u001b[0m\u001b[0mdataset\u001b[0m\u001b[0;34m\u001b[0m\u001b[0m\n\u001b[0;32m--> 114\u001b[0;31m         \u001b[0mself\u001b[0m\u001b[0;34m.\u001b[0m\u001b[0mmodel\u001b[0m\u001b[0;34m.\u001b[0m\u001b[0mtrain\u001b[0m\u001b[0;34m(\u001b[0m\u001b[0mdataset\u001b[0m\u001b[0;34m)\u001b[0m\u001b[0;34m\u001b[0m\u001b[0m\n\u001b[0m\u001b[1;32m    115\u001b[0m \u001b[0;34m\u001b[0m\u001b[0m\n\u001b[1;32m    116\u001b[0m         \u001b[0munlabeled_entry_ids\u001b[0m\u001b[0;34m,\u001b[0m \u001b[0mX_pool\u001b[0m \u001b[0;34m=\u001b[0m \u001b[0mzip\u001b[0m\u001b[0;34m(\u001b[0m\u001b[0;34m*\u001b[0m\u001b[0mdataset\u001b[0m\u001b[0;34m.\u001b[0m\u001b[0mget_unlabeled_entries\u001b[0m\u001b[0;34m(\u001b[0m\u001b[0;34m)\u001b[0m\u001b[0;34m)\u001b[0m\u001b[0;34m\u001b[0m\u001b[0m\n",
      "\u001b[0;32m/Users/megret/anaconda/envs/bnl/lib/python3.5/site-packages/libact/models/logistic_regression.py\u001b[0m in \u001b[0;36mtrain\u001b[0;34m(self, dataset, *args, **kwargs)\u001b[0m\n\u001b[1;32m     22\u001b[0m \u001b[0;34m\u001b[0m\u001b[0m\n\u001b[1;32m     23\u001b[0m     \u001b[0;32mdef\u001b[0m \u001b[0mtrain\u001b[0m\u001b[0;34m(\u001b[0m\u001b[0mself\u001b[0m\u001b[0;34m,\u001b[0m \u001b[0mdataset\u001b[0m\u001b[0;34m,\u001b[0m \u001b[0;34m*\u001b[0m\u001b[0margs\u001b[0m\u001b[0;34m,\u001b[0m \u001b[0;34m**\u001b[0m\u001b[0mkwargs\u001b[0m\u001b[0;34m)\u001b[0m\u001b[0;34m:\u001b[0m\u001b[0;34m\u001b[0m\u001b[0m\n\u001b[0;32m---> 24\u001b[0;31m         \u001b[0;32mreturn\u001b[0m \u001b[0mself\u001b[0m\u001b[0;34m.\u001b[0m\u001b[0mmodel\u001b[0m\u001b[0;34m.\u001b[0m\u001b[0mfit\u001b[0m\u001b[0;34m(\u001b[0m\u001b[0;34m*\u001b[0m\u001b[0;34m(\u001b[0m\u001b[0mdataset\u001b[0m\u001b[0;34m.\u001b[0m\u001b[0mformat_sklearn\u001b[0m\u001b[0;34m(\u001b[0m\u001b[0;34m)\u001b[0m \u001b[0;34m+\u001b[0m \u001b[0margs\u001b[0m\u001b[0;34m)\u001b[0m\u001b[0;34m,\u001b[0m \u001b[0;34m**\u001b[0m\u001b[0mkwargs\u001b[0m\u001b[0;34m)\u001b[0m\u001b[0;34m\u001b[0m\u001b[0m\n\u001b[0m\u001b[1;32m     25\u001b[0m \u001b[0;34m\u001b[0m\u001b[0m\n\u001b[1;32m     26\u001b[0m     \u001b[0;32mdef\u001b[0m \u001b[0mpredict\u001b[0m\u001b[0;34m(\u001b[0m\u001b[0mself\u001b[0m\u001b[0;34m,\u001b[0m \u001b[0mfeature\u001b[0m\u001b[0;34m,\u001b[0m \u001b[0;34m*\u001b[0m\u001b[0margs\u001b[0m\u001b[0;34m,\u001b[0m \u001b[0;34m**\u001b[0m\u001b[0mkwargs\u001b[0m\u001b[0;34m)\u001b[0m\u001b[0;34m:\u001b[0m\u001b[0;34m\u001b[0m\u001b[0m\n",
      "\u001b[0;32m/Users/megret/anaconda/envs/bnl/lib/python3.5/site-packages/sklearn/linear_model/logistic.py\u001b[0m in \u001b[0;36mfit\u001b[0;34m(self, X, y, sample_weight)\u001b[0m\n\u001b[1;32m   1184\u001b[0m                 \u001b[0mself\u001b[0m\u001b[0;34m.\u001b[0m\u001b[0mclass_weight\u001b[0m\u001b[0;34m,\u001b[0m \u001b[0mself\u001b[0m\u001b[0;34m.\u001b[0m\u001b[0mpenalty\u001b[0m\u001b[0;34m,\u001b[0m \u001b[0mself\u001b[0m\u001b[0;34m.\u001b[0m\u001b[0mdual\u001b[0m\u001b[0;34m,\u001b[0m \u001b[0mself\u001b[0m\u001b[0;34m.\u001b[0m\u001b[0mverbose\u001b[0m\u001b[0;34m,\u001b[0m\u001b[0;34m\u001b[0m\u001b[0m\n\u001b[1;32m   1185\u001b[0m                 \u001b[0mself\u001b[0m\u001b[0;34m.\u001b[0m\u001b[0mmax_iter\u001b[0m\u001b[0;34m,\u001b[0m \u001b[0mself\u001b[0m\u001b[0;34m.\u001b[0m\u001b[0mtol\u001b[0m\u001b[0;34m,\u001b[0m \u001b[0mself\u001b[0m\u001b[0;34m.\u001b[0m\u001b[0mrandom_state\u001b[0m\u001b[0;34m,\u001b[0m\u001b[0;34m\u001b[0m\u001b[0m\n\u001b[0;32m-> 1186\u001b[0;31m                 sample_weight=sample_weight)\n\u001b[0m\u001b[1;32m   1187\u001b[0m             \u001b[0mself\u001b[0m\u001b[0;34m.\u001b[0m\u001b[0mn_iter_\u001b[0m \u001b[0;34m=\u001b[0m \u001b[0mnp\u001b[0m\u001b[0;34m.\u001b[0m\u001b[0marray\u001b[0m\u001b[0;34m(\u001b[0m\u001b[0;34m[\u001b[0m\u001b[0mn_iter_\u001b[0m\u001b[0;34m]\u001b[0m\u001b[0;34m)\u001b[0m\u001b[0;34m\u001b[0m\u001b[0m\n\u001b[1;32m   1188\u001b[0m             \u001b[0;32mreturn\u001b[0m \u001b[0mself\u001b[0m\u001b[0;34m\u001b[0m\u001b[0m\n",
      "\u001b[0;32m/Users/megret/anaconda/envs/bnl/lib/python3.5/site-packages/sklearn/svm/base.py\u001b[0m in \u001b[0;36m_fit_liblinear\u001b[0;34m(X, y, C, fit_intercept, intercept_scaling, class_weight, penalty, dual, verbose, max_iter, tol, random_state, multi_class, loss, epsilon, sample_weight)\u001b[0m\n\u001b[1;32m    910\u001b[0m         \u001b[0mX\u001b[0m\u001b[0;34m,\u001b[0m \u001b[0my_ind\u001b[0m\u001b[0;34m,\u001b[0m \u001b[0msp\u001b[0m\u001b[0;34m.\u001b[0m\u001b[0misspmatrix\u001b[0m\u001b[0;34m(\u001b[0m\u001b[0mX\u001b[0m\u001b[0;34m)\u001b[0m\u001b[0;34m,\u001b[0m \u001b[0msolver_type\u001b[0m\u001b[0;34m,\u001b[0m \u001b[0mtol\u001b[0m\u001b[0;34m,\u001b[0m \u001b[0mbias\u001b[0m\u001b[0;34m,\u001b[0m \u001b[0mC\u001b[0m\u001b[0;34m,\u001b[0m\u001b[0;34m\u001b[0m\u001b[0m\n\u001b[1;32m    911\u001b[0m         \u001b[0mclass_weight_\u001b[0m\u001b[0;34m,\u001b[0m \u001b[0mmax_iter\u001b[0m\u001b[0;34m,\u001b[0m \u001b[0mrnd\u001b[0m\u001b[0;34m.\u001b[0m\u001b[0mrandint\u001b[0m\u001b[0;34m(\u001b[0m\u001b[0mnp\u001b[0m\u001b[0;34m.\u001b[0m\u001b[0miinfo\u001b[0m\u001b[0;34m(\u001b[0m\u001b[0;34m'i'\u001b[0m\u001b[0;34m)\u001b[0m\u001b[0;34m.\u001b[0m\u001b[0mmax\u001b[0m\u001b[0;34m)\u001b[0m\u001b[0;34m,\u001b[0m\u001b[0;34m\u001b[0m\u001b[0m\n\u001b[0;32m--> 912\u001b[0;31m         epsilon, sample_weight)\n\u001b[0m\u001b[1;32m    913\u001b[0m     \u001b[0;31m# Regarding rnd.randint(..) in the above signature:\u001b[0m\u001b[0;34m\u001b[0m\u001b[0;34m\u001b[0m\u001b[0m\n\u001b[1;32m    914\u001b[0m     \u001b[0;31m# seed for srand in range [0..INT_MAX); due to limitations in Numpy\u001b[0m\u001b[0;34m\u001b[0m\u001b[0;34m\u001b[0m\u001b[0m\n",
      "\u001b[0;31mKeyboardInterrupt\u001b[0m: "
     ]
    }
   ],
   "source": [
    "%matplotlib inline\n",
    "(E_in_1,E_in_2,E_out_1,E_out_2)=active_learning(data,labels,test_size,n_labeled)\n",
    "print(E_out_1,E_out_2)"
   ]
  },
  {
   "cell_type": "code",
   "execution_count": 10,
   "metadata": {
    "collapsed": false
   },
   "outputs": [
    {
     "data": {
      "text/plain": [
       "array([ 0.24093583,  0.26419483,  0.25037625,  0.24941853,  0.25023943])"
      ]
     },
     "execution_count": 10,
     "metadata": {},
     "output_type": "execute_result"
    }
   ],
   "source": [
    "E_out_1"
   ]
  },
  {
   "cell_type": "markdown",
   "metadata": {},
   "source": [
    "# Testing and characterization"
   ]
  },
  {
   "cell_type": "code",
   "execution_count": 27,
   "metadata": {
    "collapsed": false
   },
   "outputs": [
    {
     "data": {
      "text/plain": [
       "(array([ 22155.,      0.,      0.,      0.,      0.,      0.,      0.,\n",
       "             0.,      0.,   7079.]),\n",
       " array([ 0. ,  0.1,  0.2,  0.3,  0.4,  0.5,  0.6,  0.7,  0.8,  0.9,  1. ]),\n",
       " <a list of 10 Patch objects>)"
      ]
     },
     "execution_count": 27,
     "metadata": {},
     "output_type": "execute_result"
    },
    {
     "data": {
      "image/png": "[encoded data removed]",
      "text/plain": [
       "<matplotlib.figure.Figure at 0x11892c7f0>"
      ]
     },
     "metadata": {},
     "output_type": "display_data"
    }
   ],
   "source": [
    "plt.hist(labels)"
   ]
  },
  {
   "cell_type": "code",
   "execution_count": 28,
   "metadata": {
    "collapsed": false
   },
   "outputs": [
    {
     "data": {
      "text/plain": [
       "(29234, 80)"
      ]
     },
     "execution_count": 28,
     "metadata": {},
     "output_type": "execute_result"
    }
   ],
   "source": [
    "data.shape"
   ]
  },
  {
   "cell_type": "code",
   "execution_count": 62,
   "metadata": {
    "collapsed": false
   },
   "outputs": [
    {
     "data": {
      "text/plain": [
       "[<matplotlib.lines.Line2D at 0x117b8b3c8>,\n",
       " <matplotlib.lines.Line2D at 0x117b8bda0>,\n",
       " <matplotlib.lines.Line2D at 0x117b8beb8>]"
      ]
     },
     "execution_count": 62,
     "metadata": {},
     "output_type": "execute_result"
    },
    {
     "data": {
      "image/png": "[encoded data removed]",
      "text/plain": [
       "<matplotlib.figure.Figure at 0x1178d8470>"
      ]
     },
     "metadata": {},
     "output_type": "display_data"
    }
   ],
   "source": [
    "N=data.shape[1]\n",
    "_r=range\n",
    "plt.plot(_r(N),data[:,_r(N)].min(0),_r(N),data[:,_r(N)].max(0),_r(N),data[:,_r(N)].mean(0))"
   ]
  },
  {
   "cell_type": "code",
   "execution_count": 64,
   "metadata": {
    "collapsed": false
   },
   "outputs": [
    {
     "data": {
      "text/plain": [
       "<matplotlib.collections.PathCollection at 0x1018089b0>"
      ]
     },
     "execution_count": 64,
     "metadata": {},
     "output_type": "execute_result"
    },
    {
     "data": {
      "image/png": "[encoded data removed]",
      "text/plain": [
       "<matplotlib.figure.Figure at 0x11a9786d8>"
      ]
     },
     "metadata": {},
     "output_type": "display_data"
    }
   ],
   "source": [
    "plt.scatter(data[:,5],data[:,62], c=labels, cmap='inferno')"
   ]
  },
  {
   "cell_type": "markdown",
   "metadata": {},
   "source": [
    "## LDA"
   ]
  },
  {
   "cell_type": "code",
   "execution_count": 6,
   "metadata": {
    "collapsed": false
   },
   "outputs": [
    {
     "name": "stderr",
     "output_type": "stream",
     "text": [
      "/Users/megret/anaconda/envs/bnl/lib/python3.5/site-packages/sklearn/discriminant_analysis.py:387: UserWarning: Variables are collinear.\n",
      "  warnings.warn(\"Variables are collinear.\")\n"
     ]
    }
   ],
   "source": [
    "from sklearn.discriminant_analysis import LinearDiscriminantAnalysis\n",
    "lda = LinearDiscriminantAnalysis(n_components=2)\n",
    "data2 = lda.fit(data, labels).transform(data)"
   ]
  },
  {
   "cell_type": "code",
   "execution_count": 47,
   "metadata": {
    "collapsed": true
   },
   "outputs": [],
   "source": [
    "%matplotlib inline \n",
    "def view_class_hist(data, labels, bins=10):\n",
    "    h0,b0=np.histogram(data[labels==0],bins=bins,normed=True)\n",
    "    h1,b1=np.histogram(data[labels==1],bins=bins,normed=True)\n",
    "    plt.plot(0.5*(b0[0:-1]+b0[1:]),h0, 0.5*(b1[0:-1]+b1[1:]),h1)"
   ]
  },
  {
   "cell_type": "code",
   "execution_count": 8,
   "metadata": {
    "collapsed": false
   },
   "outputs": [
    {
     "ename": "ValueError",
     "evalue": "X should be a 1d array",
     "output_type": "error",
     "traceback": [
      "\u001b[0;31m---------------------------------------------------------------------------\u001b[0m",
      "\u001b[0;31mValueError\u001b[0m                                Traceback (most recent call last)",
      "\u001b[0;32m<ipython-input-8-04e669dd566c>\u001b[0m in \u001b[0;36m<module>\u001b[0;34m()\u001b[0m\n\u001b[1;32m      1\u001b[0m \u001b[0;32mfrom\u001b[0m \u001b[0msklearn\u001b[0m\u001b[0;34m.\u001b[0m\u001b[0misotonic\u001b[0m \u001b[0;32mimport\u001b[0m \u001b[0mIsotonicRegression\u001b[0m\u001b[0;34m\u001b[0m\u001b[0m\n\u001b[1;32m      2\u001b[0m \u001b[0mir\u001b[0m \u001b[0;34m=\u001b[0m \u001b[0mIsotonicRegression\u001b[0m\u001b[0;34m(\u001b[0m\u001b[0;34m)\u001b[0m\u001b[0;34m\u001b[0m\u001b[0m\n\u001b[0;32m----> 3\u001b[0;31m \u001b[0mdatap\u001b[0m \u001b[0;34m=\u001b[0m \u001b[0mir\u001b[0m\u001b[0;34m.\u001b[0m\u001b[0mfit_transform\u001b[0m\u001b[0;34m(\u001b[0m\u001b[0mdata2\u001b[0m\u001b[0;34m,\u001b[0m \u001b[0mlabels\u001b[0m\u001b[0;34m)\u001b[0m\u001b[0;34m\u001b[0m\u001b[0m\n\u001b[0m\u001b[1;32m      4\u001b[0m \u001b[0;34m\u001b[0m\u001b[0m\n\u001b[1;32m      5\u001b[0m \u001b[0mview_class_hist\u001b[0m\u001b[0;34m(\u001b[0m\u001b[0mdata2\u001b[0m\u001b[0;34m[\u001b[0m\u001b[0;34m:\u001b[0m\u001b[0;34m]\u001b[0m\u001b[0;34m,\u001b[0m \u001b[0mlabels\u001b[0m\u001b[0;34m)\u001b[0m\u001b[0;34m\u001b[0m\u001b[0m\n",
      "\u001b[0;32m/Users/megret/anaconda/envs/bnl/lib/python3.5/site-packages/sklearn/base.py\u001b[0m in \u001b[0;36mfit_transform\u001b[0;34m(self, X, y, **fit_params)\u001b[0m\n\u001b[1;32m    495\u001b[0m         \u001b[0;32melse\u001b[0m\u001b[0;34m:\u001b[0m\u001b[0;34m\u001b[0m\u001b[0m\n\u001b[1;32m    496\u001b[0m             \u001b[0;31m# fit method of arity 2 (supervised transformation)\u001b[0m\u001b[0;34m\u001b[0m\u001b[0;34m\u001b[0m\u001b[0m\n\u001b[0;32m--> 497\u001b[0;31m             \u001b[0;32mreturn\u001b[0m \u001b[0mself\u001b[0m\u001b[0;34m.\u001b[0m\u001b[0mfit\u001b[0m\u001b[0;34m(\u001b[0m\u001b[0mX\u001b[0m\u001b[0;34m,\u001b[0m \u001b[0my\u001b[0m\u001b[0;34m,\u001b[0m \u001b[0;34m**\u001b[0m\u001b[0mfit_params\u001b[0m\u001b[0;34m)\u001b[0m\u001b[0;34m.\u001b[0m\u001b[0mtransform\u001b[0m\u001b[0;34m(\u001b[0m\u001b[0mX\u001b[0m\u001b[0;34m)\u001b[0m\u001b[0;34m\u001b[0m\u001b[0m\n\u001b[0m\u001b[1;32m    498\u001b[0m \u001b[0;34m\u001b[0m\u001b[0m\n\u001b[1;32m    499\u001b[0m \u001b[0;34m\u001b[0m\u001b[0m\n",
      "\u001b[0;32m/Users/megret/anaconda/envs/bnl/lib/python3.5/site-packages/sklearn/isotonic.py\u001b[0m in \u001b[0;36mfit\u001b[0;34m(self, X, y, sample_weight)\u001b[0m\n\u001b[1;32m    351\u001b[0m         \u001b[0;31m# Transform y by running the isotonic regression algorithm and\u001b[0m\u001b[0;34m\u001b[0m\u001b[0;34m\u001b[0m\u001b[0m\n\u001b[1;32m    352\u001b[0m         \u001b[0;31m# transform X accordingly.\u001b[0m\u001b[0;34m\u001b[0m\u001b[0;34m\u001b[0m\u001b[0m\n\u001b[0;32m--> 353\u001b[0;31m         \u001b[0mX\u001b[0m\u001b[0;34m,\u001b[0m \u001b[0my\u001b[0m \u001b[0;34m=\u001b[0m \u001b[0mself\u001b[0m\u001b[0;34m.\u001b[0m\u001b[0m_build_y\u001b[0m\u001b[0;34m(\u001b[0m\u001b[0mX\u001b[0m\u001b[0;34m,\u001b[0m \u001b[0my\u001b[0m\u001b[0;34m,\u001b[0m \u001b[0msample_weight\u001b[0m\u001b[0;34m)\u001b[0m\u001b[0;34m\u001b[0m\u001b[0m\n\u001b[0m\u001b[1;32m    354\u001b[0m \u001b[0;34m\u001b[0m\u001b[0m\n\u001b[1;32m    355\u001b[0m         \u001b[0;31m# It is necessary to store the non-redundant part of the training set\u001b[0m\u001b[0;34m\u001b[0m\u001b[0;34m\u001b[0m\u001b[0m\n",
      "\u001b[0;32m/Users/megret/anaconda/envs/bnl/lib/python3.5/site-packages/sklearn/isotonic.py\u001b[0m in \u001b[0;36m_build_y\u001b[0;34m(self, X, y, sample_weight, trim_duplicates)\u001b[0m\n\u001b[1;32m    274\u001b[0m \u001b[0;34m\u001b[0m\u001b[0m\n\u001b[1;32m    275\u001b[0m         \u001b[0my\u001b[0m \u001b[0;34m=\u001b[0m \u001b[0mas_float_array\u001b[0m\u001b[0;34m(\u001b[0m\u001b[0my\u001b[0m\u001b[0;34m)\u001b[0m\u001b[0;34m\u001b[0m\u001b[0m\n\u001b[0;32m--> 276\u001b[0;31m         \u001b[0mself\u001b[0m\u001b[0;34m.\u001b[0m\u001b[0m_check_fit_data\u001b[0m\u001b[0;34m(\u001b[0m\u001b[0mX\u001b[0m\u001b[0;34m,\u001b[0m \u001b[0my\u001b[0m\u001b[0;34m,\u001b[0m \u001b[0msample_weight\u001b[0m\u001b[0;34m)\u001b[0m\u001b[0;34m\u001b[0m\u001b[0m\n\u001b[0m\u001b[1;32m    277\u001b[0m \u001b[0;34m\u001b[0m\u001b[0m\n\u001b[1;32m    278\u001b[0m         \u001b[0;31m# Determine increasing if auto-determination requested\u001b[0m\u001b[0;34m\u001b[0m\u001b[0;34m\u001b[0m\u001b[0m\n",
      "\u001b[0;32m/Users/megret/anaconda/envs/bnl/lib/python3.5/site-packages/sklearn/isotonic.py\u001b[0m in \u001b[0;36m_check_fit_data\u001b[0;34m(self, X, y, sample_weight)\u001b[0m\n\u001b[1;32m    249\u001b[0m     \u001b[0;32mdef\u001b[0m \u001b[0m_check_fit_data\u001b[0m\u001b[0;34m(\u001b[0m\u001b[0mself\u001b[0m\u001b[0;34m,\u001b[0m \u001b[0mX\u001b[0m\u001b[0;34m,\u001b[0m \u001b[0my\u001b[0m\u001b[0;34m,\u001b[0m \u001b[0msample_weight\u001b[0m\u001b[0;34m=\u001b[0m\u001b[0;32mNone\u001b[0m\u001b[0;34m)\u001b[0m\u001b[0;34m:\u001b[0m\u001b[0;34m\u001b[0m\u001b[0m\n\u001b[1;32m    250\u001b[0m         \u001b[0;32mif\u001b[0m \u001b[0mlen\u001b[0m\u001b[0;34m(\u001b[0m\u001b[0mX\u001b[0m\u001b[0;34m.\u001b[0m\u001b[0mshape\u001b[0m\u001b[0;34m)\u001b[0m \u001b[0;34m!=\u001b[0m \u001b[0;36m1\u001b[0m\u001b[0;34m:\u001b[0m\u001b[0;34m\u001b[0m\u001b[0m\n\u001b[0;32m--> 251\u001b[0;31m             \u001b[0;32mraise\u001b[0m \u001b[0mValueError\u001b[0m\u001b[0;34m(\u001b[0m\u001b[0;34m\"X should be a 1d array\"\u001b[0m\u001b[0;34m)\u001b[0m\u001b[0;34m\u001b[0m\u001b[0m\n\u001b[0m\u001b[1;32m    252\u001b[0m \u001b[0;34m\u001b[0m\u001b[0m\n\u001b[1;32m    253\u001b[0m     \u001b[0;32mdef\u001b[0m \u001b[0m_build_f\u001b[0m\u001b[0;34m(\u001b[0m\u001b[0mself\u001b[0m\u001b[0;34m,\u001b[0m \u001b[0mX\u001b[0m\u001b[0;34m,\u001b[0m \u001b[0my\u001b[0m\u001b[0;34m)\u001b[0m\u001b[0;34m:\u001b[0m\u001b[0;34m\u001b[0m\u001b[0m\n",
      "\u001b[0;31mValueError\u001b[0m: X should be a 1d array"
     ]
    }
   ],
   "source": [
    "from sklearn.isotonic import IsotonicRegression\n",
    "ir = IsotonicRegression()\n",
    "datap = ir.fit_transform(data2, labels)\n",
    "\n",
    "view_class_hist(data2[:], labels)\n",
    "plt.title('LDA');"
   ]
  },
  {
   "cell_type": "code",
   "execution_count": 14,
   "metadata": {
    "collapsed": false
   },
   "outputs": [
    {
     "ename": "NameError",
     "evalue": "name 'data3' is not defined",
     "output_type": "error",
     "traceback": [
      "\u001b[0;31m---------------------------------------------------------------------------\u001b[0m",
      "\u001b[0;31mNameError\u001b[0m                                 Traceback (most recent call last)",
      "\u001b[0;32m<ipython-input-14-96925ad49489>\u001b[0m in \u001b[0;36m<module>\u001b[0;34m()\u001b[0m\n\u001b[0;32m----> 1\u001b[0;31m \u001b[0mplt\u001b[0m\u001b[0;34m.\u001b[0m\u001b[0mscatter\u001b[0m\u001b[0;34m(\u001b[0m\u001b[0mdata2\u001b[0m\u001b[0;34m[\u001b[0m\u001b[0;34m:\u001b[0m\u001b[0;34m,\u001b[0m\u001b[0;36m0\u001b[0m\u001b[0;34m]\u001b[0m\u001b[0;34m,\u001b[0m\u001b[0mdata3\u001b[0m\u001b[0;34m[\u001b[0m\u001b[0;34m:\u001b[0m\u001b[0;34m,\u001b[0m\u001b[0;36m0\u001b[0m\u001b[0;34m]\u001b[0m\u001b[0;34m,\u001b[0m \u001b[0mc\u001b[0m\u001b[0;34m=\u001b[0m\u001b[0mlabels\u001b[0m\u001b[0;34m,\u001b[0m \u001b[0mcmap\u001b[0m\u001b[0;34m=\u001b[0m\u001b[0;34m'inferno'\u001b[0m\u001b[0;34m)\u001b[0m\u001b[0;34m\u001b[0m\u001b[0m\n\u001b[0m\u001b[1;32m      2\u001b[0m \u001b[0mplt\u001b[0m\u001b[0;34m.\u001b[0m\u001b[0mtitle\u001b[0m\u001b[0;34m(\u001b[0m\u001b[0;34m'LDA vs PCA[0]'\u001b[0m\u001b[0;34m)\u001b[0m\u001b[0;34m;\u001b[0m\u001b[0;34m\u001b[0m\u001b[0m\n",
      "\u001b[0;31mNameError\u001b[0m: name 'data3' is not defined"
     ]
    }
   ],
   "source": [
    "plt.scatter(data2[:,0],data3[:,0], c=labels, cmap='inferno')\n",
    "plt.title('LDA vs PCA[0]');"
   ]
  },
  {
   "cell_type": "code",
   "execution_count": 16,
   "metadata": {
    "collapsed": false
   },
   "outputs": [
    {
     "data": {
      "image/png": "[encoded data removed]",
      "text/plain": [
       "<matplotlib.figure.Figure at 0x1205a25f8>"
      ]
     },
     "metadata": {},
     "output_type": "display_data"
    }
   ],
   "source": [
    "plt.plot(lda.scalings_);"
   ]
  },
  {
   "cell_type": "code",
   "execution_count": 103,
   "metadata": {
    "collapsed": false
   },
   "outputs": [],
   "source": [
    "from sklearn.decomposition import PCA\n",
    "pca = PCA(n_components=3)\n",
    "data3 = pca.fit(data, labels).transform(data)"
   ]
  },
  {
   "cell_type": "code",
   "execution_count": 102,
   "metadata": {
    "collapsed": false
   },
   "outputs": [
    {
     "data": {
      "text/plain": [
       "<matplotlib.collections.PathCollection at 0x118112be0>"
      ]
     },
     "execution_count": 102,
     "metadata": {},
     "output_type": "execute_result"
    },
    {
     "data": {
      "image/png": "[encoded data removed]",
      "text/plain": [
       "<matplotlib.figure.Figure at 0x118145898>"
      ]
     },
     "metadata": {},
     "output_type": "display_data"
    }
   ],
   "source": [
    "plt.scatter(data3[:,0],data3[:,2], c=labels, cmap='inferno')"
   ]
  },
  {
   "cell_type": "code",
   "execution_count": 122,
   "metadata": {
    "collapsed": false
   },
   "outputs": [
    {
     "data": {
      "text/plain": [
       "[<matplotlib.lines.Line2D at 0x1198f11d0>]"
      ]
     },
     "execution_count": 122,
     "metadata": {},
     "output_type": "execute_result"
    },
    {
     "data": {
      "image/png": "[encoded data removed]",
      "text/plain": [
       "<matplotlib.figure.Figure at 0x122d0ffd0>"
      ]
     },
     "metadata": {},
     "output_type": "display_data"
    }
   ],
   "source": [
    "plt.plot(pca.components_[0,:])"
   ]
  },
  {
   "cell_type": "code",
   "execution_count": 21,
   "metadata": {
    "collapsed": false
   },
   "outputs": [],
   "source": [
    "from sklearn.linear_model import LogisticRegression, RidgeClassifier\n",
    "from sklearn.svm import LinearSVC\n",
    "logistic = LinearSVC(C=1e-5)\n",
    "logistic.fit(data, labels)\n",
    "data4 = logistic.predict(data)"
   ]
  },
  {
   "cell_type": "code",
   "execution_count": null,
   "metadata": {
    "collapsed": false
   },
   "outputs": [],
   "source": [
    "from sklearn.linear_model import LogisticRegression, RidgeClassifier\n",
    "from sklearn.svm import LinearSVC, SVC\n",
    "#logistic = LogisticRegression(C=0.01)\n",
    "#logistic = RidgeClassifier()\n",
    "logistic = SVC( kernel='linear', probability=True)\n",
    "logistic.fit(data, labels)\n",
    "datalog = logistic.predictProba(data)\n",
    "\n",
    "view_class_hist(datalog, labels, np.linspace(-1,2,20))"
   ]
  },
  {
   "cell_type": "code",
   "execution_count": 67,
   "metadata": {
    "collapsed": false
   },
   "outputs": [
    {
     "data": {
      "image/png": "[encoded data removed]",
      "text/plain": [
       "<matplotlib.figure.Figure at 0x11d148c50>"
      ]
     },
     "metadata": {},
     "output_type": "display_data"
    }
   ],
   "source": [
    "view_class_hist(datalog, labels, np.linspace(-1,1,20))"
   ]
  },
  {
   "cell_type": "code",
   "execution_count": 20,
   "metadata": {
    "collapsed": false
   },
   "outputs": [
    {
     "data": {
      "text/plain": [
       "[<matplotlib.lines.Line2D at 0x11c1339b0>]"
      ]
     },
     "execution_count": 20,
     "metadata": {},
     "output_type": "execute_result"
    },
    {
     "data": {
      "image/png": "[encoded data removed]",
      "text/plain": [
       "<matplotlib.figure.Figure at 0x120850a20>"
      ]
     },
     "metadata": {},
     "output_type": "display_data"
    }
   ],
   "source": [
    "ss=np.linspace(-10,10)\n",
    "mm=lda.means_[0,:].reshape(1,80);\n",
    "aa=lda.scalings_.transpose();\n",
    "xx = mm+aa * np.reshape(ss,(50,1))\n",
    "plt.plot(ss,logistic.predict(xx), '.-')"
   ]
  },
  {
   "cell_type": "code",
   "execution_count": 81,
   "metadata": {
    "collapsed": false
   },
   "outputs": [
    {
     "data": {
      "text/plain": [
       "[<matplotlib.lines.Line2D at 0x115c31128>]"
      ]
     },
     "execution_count": 81,
     "metadata": {},
     "output_type": "execute_result"
    },
    {
     "data": {
      "image/png": "[encoded data removed]",
      "text/plain": [
       "<matplotlib.figure.Figure at 0x11c64e080>"
      ]
     },
     "metadata": {},
     "output_type": "display_data"
    }
   ],
   "source": [
    "plt.plot(logistic.coef_[0])"
   ]
  },
  {
   "cell_type": "code",
   "execution_count": 147,
   "metadata": {
    "collapsed": false
   },
   "outputs": [
    {
     "data": {
      "text/plain": [
       "(1, 80)"
      ]
     },
     "execution_count": 147,
     "metadata": {},
     "output_type": "execute_result"
    }
   ],
   "source": []
  },
  {
   "cell_type": "code",
   "execution_count": 148,
   "metadata": {
    "collapsed": false
   },
   "outputs": [
    {
     "data": {
      "text/plain": [
       "(50, 1)"
      ]
     },
     "execution_count": 148,
     "metadata": {},
     "output_type": "execute_result"
    }
   ],
   "source": [
    "np.reshape(np.linspace(-10,10),(50,1)).shape"
   ]
  },
  {
   "cell_type": "code",
   "execution_count": 154,
   "metadata": {
    "collapsed": false
   },
   "outputs": [
    {
     "data": {
      "text/plain": [
       "(1, 80)"
      ]
     },
     "execution_count": 154,
     "metadata": {},
     "output_type": "execute_result"
    }
   ],
   "source": [
    "mm.shape"
   ]
  },
  {
   "cell_type": "code",
   "execution_count": null,
   "metadata": {
    "collapsed": false
   },
   "outputs": [],
   "source": []
  },
  {
   "cell_type": "code",
   "execution_count": null,
   "metadata": {
    "collapsed": true
   },
   "outputs": [],
   "source": []
  }
 ],
 "metadata": {
  "kernelspec": {
   "display_name": "Python 3",
   "language": "python",
   "name": "python3"
  },
  "language_info": {
   "codemirror_mode": {
    "name": "ipython",
    "version": 3
   },
   "file_extension": ".py",
   "mimetype": "text/x-python",
   "name": "python",
   "nbconvert_exporter": "python",
   "pygments_lexer": "ipython3",
   "version": "3.5.1"
  }
 },
 "nbformat": 4,
 "nbformat_minor": 2
}
